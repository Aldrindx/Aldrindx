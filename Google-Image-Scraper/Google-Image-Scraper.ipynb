{
 "cells": [
  {
   "cell_type": "code",
   "execution_count": null,
   "metadata": {},
   "outputs": [],
   "source": [
    "#  !git clone https://github.com/ohyicong/Google-Image-Scraper"
   ]
  },
  {
   "cell_type": "code",
   "execution_count": null,
   "metadata": {},
   "outputs": [],
   "source": [
    "# pip install -r requirements.txt  "
   ]
  },
  {
   "cell_type": "code",
   "execution_count": null,
   "metadata": {},
   "outputs": [],
   "source": [
    "# run new jupyter-notebook inside Google-Image-Scraper folder."
   ]
  },
  {
   "cell_type": "code",
   "execution_count": 1,
   "metadata": {},
   "outputs": [],
   "source": [
    "from GoogleImageScrapper import GoogleImageScraper\n",
    "import os"
   ]
  },
  {
   "cell_type": "code",
   "execution_count": 2,
   "metadata": {},
   "outputs": [],
   "source": [
    "#Define file path\n",
    "webdriver_path = os.path.normpath(os.getcwd()+\"\\\\webdriver\\\\chromedriver.exe\")\n",
    "image_path = os.path.normpath(os.getcwd()+\"\\\\xyz\")"
   ]
  },
  {
   "cell_type": "code",
   "execution_count": 3,
   "metadata": {},
   "outputs": [],
   "source": [
    "#Add new search key into array [\"cat\",\"t-shirt\",\"apple\",\"orange\",\"pear\",\"fish\"]\n",
    "search_keys= ['radio-vest images']"
   ]
  },
  {
   "cell_type": "code",
   "execution_count": 4,
   "metadata": {},
   "outputs": [],
   "source": [
    "#Parameters\n",
    "number_of_images =10\n",
    "headless = False\n",
    "min_resolution=(0,0)\n",
    "max_resolution=(9999,9999)"
   ]
  },
  {
   "cell_type": "code",
   "execution_count": 5,
   "metadata": {},
   "outputs": [
    {
     "name": "stdout",
     "output_type": "stream",
     "text": [
      "[INFO] Image path not found. Creating a new folder.\n",
      "[INFO] installing new chromedriver\n",
      "[INFO] downloading chromedriver ver: 102.0.5005.61: https://chromedriver.storage.googleapis.com/102.0.5005.61/chromedriver_win32.zip\n",
      "[INFO] lastest chromedriver downloaded\n",
      "[INFO] Scraping for image link... Please wait.\n",
      "[INFO] 0. https://m.media-amazon.com/images/I/61xvbbVY7bL._SX425_.jpg\n",
      "[INFO] 1. https://ae01.alicdn.com/kf/Haf828ac8c07f443dae96d841bd7999e48/Hunting-Tactical-Radio-Vest-Chest-Rig-Harness-Airsoft-Walkie-Talkie-Pouch-Holster-Military-Paintball-Equipment-Army.jpg_Q90.jpg_.webp\n",
      "[INFO] 2. https://m.media-amazon.com/images/I/61dTbwyuRXL._SL1001_.jpg\n",
      "[INFO] 3. https://canary.contestimg.wish.com/api/webimage/5cbeb2ee625977592ca8e366-large.jpg?cache_buster=ff35b8be5db198ff57459e13c216d8f7\n",
      "[INFO] 4. https://www.ubuy.co.in/productimg/?image=aHR0cHM6Ly9pNS53YWxtYXJ0aW1hZ2VzLmNvbS9hc3IvMjY1MzAyZjQtN2I4MC00NTk5LTllYzktNGE1YjU1NjdiNmMxXzEuOTFlZDYwNTQxZjlmM2RhY2RiNWJjZDFhOTExZTQ0NTUuanBlZz9vZG5XaWR0aD00MDAmYW1wO29kbkhlaWdodD00MDAmYW1wO29kbkJnPWZmZmZmZg.jpg\n",
      "[INFO] 5. https://ae01.alicdn.com/kf/H172c0ca37bc44d7e95fe412f2d4debe5v/Radios-Pocket-Radio-Chest-Harness-Chest-Front-Pack-Pouch-Holster-Vest-Rig-Carry-Case-for-2.jpg_Q90.jpg_.webp\n",
      "[INFO] 6. https://m.media-amazon.com/images/I/61TsopbT9JL._SY355_.jpg\n",
      "[INFO] 7. https://mountainuniforms.com/wp-content/uploads/2020/04/v201-blk.png1_.png\n",
      "[INFO] 8. https://img.joomcdn.net/4290de39bc5eff8249b593e075be48f04e873118_1024_1024.jpeg\n",
      "[INFO] 9. https://upload.wikimedia.org/wikipedia/commons/0/0f/Radio_Vest_Logo.png\n",
      "[INFO] Google search ended\n",
      "[INFO] Saving Image... Please wait...\n",
      "[INFO] Image url:https://m.media-amazon.com/images/I/61xvbbVY7bL._SX425_.jpg\n",
      "[INFO] 0 .Image saved at: C:\\Users\\aldrinds\\Desktop\\face regcog\\GoogleImageScraper\\xyz\\radio-vest images\\radiovestimages0.jpeg\n",
      "[INFO] Image url:https://ae01.alicdn.com/kf/Haf828ac8c07f443dae96d841bd7999e48/Hunting-Tactical-Radio-Vest-Chest-Rig-Harness-Airsoft-Walkie-Talkie-Pouch-Holster-Military-Paintball-Equipment-Army.jpg_Q90.jpg_.webp\n",
      "[INFO] 1 .Image saved at: C:\\Users\\aldrinds\\Desktop\\face regcog\\GoogleImageScraper\\xyz\\radio-vest images\\radiovestimages1.jpeg\n",
      "[INFO] Image url:https://m.media-amazon.com/images/I/61dTbwyuRXL._SL1001_.jpg\n",
      "[INFO] 2 .Image saved at: C:\\Users\\aldrinds\\Desktop\\face regcog\\GoogleImageScraper\\xyz\\radio-vest images\\radiovestimages2.jpeg\n",
      "[INFO] Image url:https://canary.contestimg.wish.com/api/webimage/5cbeb2ee625977592ca8e366-large.jpg?cache_buster=ff35b8be5db198ff57459e13c216d8f7\n",
      "[INFO] 3 .Image saved at: C:\\Users\\aldrinds\\Desktop\\face regcog\\GoogleImageScraper\\xyz\\radio-vest images\\radiovestimages3.jpeg\n",
      "[INFO] Image url:https://www.ubuy.co.in/productimg/?image=aHR0cHM6Ly9pNS53YWxtYXJ0aW1hZ2VzLmNvbS9hc3IvMjY1MzAyZjQtN2I4MC00NTk5LTllYzktNGE1YjU1NjdiNmMxXzEuOTFlZDYwNTQxZjlmM2RhY2RiNWJjZDFhOTExZTQ0NTUuanBlZz9vZG5XaWR0aD00MDAmYW1wO29kbkhlaWdodD00MDAmYW1wO29kbkJnPWZmZmZmZg.jpg\n",
      "[INFO] Image url:https://ae01.alicdn.com/kf/H172c0ca37bc44d7e95fe412f2d4debe5v/Radios-Pocket-Radio-Chest-Harness-Chest-Front-Pack-Pouch-Holster-Vest-Rig-Carry-Case-for-2.jpg_Q90.jpg_.webp\n",
      "[INFO] 5 .Image saved at: C:\\Users\\aldrinds\\Desktop\\face regcog\\GoogleImageScraper\\xyz\\radio-vest images\\radiovestimages5.jpeg\n",
      "[INFO] Image url:https://m.media-amazon.com/images/I/61TsopbT9JL._SY355_.jpg\n",
      "[INFO] 6 .Image saved at: C:\\Users\\aldrinds\\Desktop\\face regcog\\GoogleImageScraper\\xyz\\radio-vest images\\radiovestimages6.jpeg\n",
      "[INFO] Image url:https://mountainuniforms.com/wp-content/uploads/2020/04/v201-blk.png1_.png\n",
      "[INFO] 7 .Image saved at: C:\\Users\\aldrinds\\Desktop\\face regcog\\GoogleImageScraper\\xyz\\radio-vest images\\radiovestimages7.png\n",
      "[INFO] Image url:https://img.joomcdn.net/4290de39bc5eff8249b593e075be48f04e873118_1024_1024.jpeg\n",
      "[INFO] 8 .Image saved at: C:\\Users\\aldrinds\\Desktop\\face regcog\\GoogleImageScraper\\xyz\\radio-vest images\\radiovestimages8.jpeg\n",
      "[INFO] Image url:https://upload.wikimedia.org/wikipedia/commons/0/0f/Radio_Vest_Logo.png\n",
      "[INFO] 9 .Image saved at: C:\\Users\\aldrinds\\Desktop\\face regcog\\GoogleImageScraper\\xyz\\radio-vest images\\radiovestimages9.png\n",
      "[INFO] Download Completed. Please note that some photos are not downloaded as it is not in the right format (e.g. jpg, jpeg, png)\n"
     ]
    }
   ],
   "source": [
    "#Main program\n",
    "for search_key in search_keys:\n",
    "    image_scrapper = GoogleImageScraper(webdriver_path,image_path,search_key,number_of_images,headless,min_resolution,max_resolution)\n",
    "    image_urls = image_scrapper.find_image_urls()\n",
    "    image_scrapper.save_images(image_urls)\n",
    "    \n",
    "#Release resources\n",
    "del image_scrapper"
   ]
  },
  {
   "cell_type": "code",
   "execution_count": null,
   "metadata": {},
   "outputs": [],
   "source": []
  },
  {
   "cell_type": "code",
   "execution_count": null,
   "metadata": {},
   "outputs": [],
   "source": []
  }
 ],
 "metadata": {
  "kernelspec": {
   "display_name": "Python 3",
   "language": "python",
   "name": "python3"
  },
  "language_info": {
   "codemirror_mode": {
    "name": "ipython",
    "version": 3
   },
   "file_extension": ".py",
   "mimetype": "text/x-python",
   "name": "python",
   "nbconvert_exporter": "python",
   "pygments_lexer": "ipython3",
   "version": "3.7.6"
  }
 },
 "nbformat": 4,
 "nbformat_minor": 4
}
