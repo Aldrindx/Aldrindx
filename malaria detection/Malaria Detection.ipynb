{
 "cells": [
  {
   "cell_type": "code",
   "execution_count": 1,
   "id": "e64c29a5",
   "metadata": {},
   "outputs": [],
   "source": [
    "import os\n",
    "import pandas as pd\n",
    "import numpy as np\n",
    "import seaborn as sns\n",
    "import matplotlib.pyplot as plt\n",
    "from matplotlib.image import imread  # converts image to array \n",
    "import tensorflow as tf"
   ]
  },
  {
   "cell_type": "code",
   "execution_count": 2,
   "id": "195f563f",
   "metadata": {},
   "outputs": [
    {
     "data": {
      "text/plain": [
       "['test', 'train']"
      ]
     },
     "execution_count": 2,
     "metadata": {},
     "output_type": "execute_result"
    }
   ],
   "source": [
    "os.listdir('cell_images')"
   ]
  },
  {
   "cell_type": "code",
   "execution_count": 3,
   "id": "17325287",
   "metadata": {},
   "outputs": [],
   "source": [
    "test_path = os.path.join('cell_images/test')\n",
    "train_path = os.path.join('cell_images/train')"
   ]
  },
  {
   "cell_type": "code",
   "execution_count": 4,
   "id": "dadeed5d",
   "metadata": {},
   "outputs": [
    {
     "data": {
      "text/plain": [
       "'cell_images/test'"
      ]
     },
     "execution_count": 4,
     "metadata": {},
     "output_type": "execute_result"
    }
   ],
   "source": [
    "test_path"
   ]
  },
  {
   "cell_type": "code",
   "execution_count": 5,
   "id": "1be05e98",
   "metadata": {},
   "outputs": [
    {
     "data": {
      "text/plain": [
       "['parasitized', 'uninfected']"
      ]
     },
     "execution_count": 5,
     "metadata": {},
     "output_type": "execute_result"
    }
   ],
   "source": [
    "os.listdir(test_path)"
   ]
  },
  {
   "cell_type": "code",
   "execution_count": 6,
   "id": "060c67a5",
   "metadata": {},
   "outputs": [
    {
     "data": {
      "text/plain": [
       "['parasitized', 'uninfected']"
      ]
     },
     "execution_count": 6,
     "metadata": {},
     "output_type": "execute_result"
    }
   ],
   "source": [
    "os.listdir(train_path)"
   ]
  },
  {
   "cell_type": "code",
   "execution_count": 7,
   "id": "c7944a3c",
   "metadata": {},
   "outputs": [
    {
     "data": {
      "text/plain": [
       "'C100P61ThinF_IMG_20150918_144104_cell_162.png'"
      ]
     },
     "execution_count": 7,
     "metadata": {},
     "output_type": "execute_result"
    }
   ],
   "source": [
    "os.listdir(train_path+ '/parasitized')[0]"
   ]
  },
  {
   "cell_type": "code",
   "execution_count": 8,
   "id": "b0e2b394",
   "metadata": {},
   "outputs": [],
   "source": [
    "para_cell = train_path+'/parasitized'+'/C100P61ThinF_IMG_20150918_144104_cell_162.png'"
   ]
  },
  {
   "cell_type": "code",
   "execution_count": 9,
   "id": "7b30ecdd",
   "metadata": {},
   "outputs": [
    {
     "data": {
      "text/plain": [
       "array([[[0., 0., 0.],\n",
       "        [0., 0., 0.],\n",
       "        [0., 0., 0.],\n",
       "        ...,\n",
       "        [0., 0., 0.],\n",
       "        [0., 0., 0.],\n",
       "        [0., 0., 0.]],\n",
       "\n",
       "       [[0., 0., 0.],\n",
       "        [0., 0., 0.],\n",
       "        [0., 0., 0.],\n",
       "        ...,\n",
       "        [0., 0., 0.],\n",
       "        [0., 0., 0.],\n",
       "        [0., 0., 0.]],\n",
       "\n",
       "       [[0., 0., 0.],\n",
       "        [0., 0., 0.],\n",
       "        [0., 0., 0.],\n",
       "        ...,\n",
       "        [0., 0., 0.],\n",
       "        [0., 0., 0.],\n",
       "        [0., 0., 0.]],\n",
       "\n",
       "       ...,\n",
       "\n",
       "       [[0., 0., 0.],\n",
       "        [0., 0., 0.],\n",
       "        [0., 0., 0.],\n",
       "        ...,\n",
       "        [0., 0., 0.],\n",
       "        [0., 0., 0.],\n",
       "        [0., 0., 0.]],\n",
       "\n",
       "       [[0., 0., 0.],\n",
       "        [0., 0., 0.],\n",
       "        [0., 0., 0.],\n",
       "        ...,\n",
       "        [0., 0., 0.],\n",
       "        [0., 0., 0.],\n",
       "        [0., 0., 0.]],\n",
       "\n",
       "       [[0., 0., 0.],\n",
       "        [0., 0., 0.],\n",
       "        [0., 0., 0.],\n",
       "        ...,\n",
       "        [0., 0., 0.],\n",
       "        [0., 0., 0.],\n",
       "        [0., 0., 0.]]], dtype=float32)"
      ]
     },
     "execution_count": 9,
     "metadata": {},
     "output_type": "execute_result"
    }
   ],
   "source": [
    "imread(para_cell)"
   ]
  },
  {
   "cell_type": "code",
   "execution_count": 10,
   "id": "cc1e645b",
   "metadata": {},
   "outputs": [
    {
     "data": {
      "text/plain": [
       "0.9098039"
      ]
     },
     "execution_count": 10,
     "metadata": {},
     "output_type": "execute_result"
    }
   ],
   "source": [
    "imread(para_cell).max()   # image values are already normalized(0-1)"
   ]
  },
  {
   "cell_type": "code",
   "execution_count": 11,
   "id": "6d022725",
   "metadata": {},
   "outputs": [
    {
     "data": {
      "text/plain": [
       "0.0"
      ]
     },
     "execution_count": 11,
     "metadata": {},
     "output_type": "execute_result"
    }
   ],
   "source": [
    "imread(para_cell).min()    "
   ]
  },
  {
   "cell_type": "code",
   "execution_count": 12,
   "id": "e8a62e56",
   "metadata": {},
   "outputs": [
    {
     "data": {
      "image/png": "[encoded data removed]",
      "text/plain": [
       "<Figure size 432x288 with 1 Axes>"
      ]
     },
     "metadata": {
      "needs_background": "light"
     },
     "output_type": "display_data"
    }
   ],
   "source": [
    "plt.imshow(imread(para_cell));"
   ]
  },
  {
   "cell_type": "code",
   "execution_count": 13,
   "id": "626efc4d",
   "metadata": {},
   "outputs": [
    {
     "data": {
      "text/plain": [
       "(148, 142, 3)"
      ]
     },
     "execution_count": 13,
     "metadata": {},
     "output_type": "execute_result"
    }
   ],
   "source": [
    "imread(para_cell).shape"
   ]
  },
  {
   "cell_type": "code",
   "execution_count": 14,
   "id": "418917b0",
   "metadata": {},
   "outputs": [
    {
     "data": {
      "text/plain": [
       "'C100P61ThinF_IMG_20150918_144104_cell_128.png'"
      ]
     },
     "execution_count": 14,
     "metadata": {},
     "output_type": "execute_result"
    }
   ],
   "source": [
    "os.listdir(train_path+'/uninfected')[0]"
   ]
  },
  {
   "cell_type": "code",
   "execution_count": 15,
   "id": "c5867b7f",
   "metadata": {},
   "outputs": [
    {
     "data": {
      "text/plain": [
       "'cell_images/train/uninfected/C100P61ThinF_IMG_20150918_144104_cell_128.png'"
      ]
     },
     "execution_count": 15,
     "metadata": {},
     "output_type": "execute_result"
    }
   ],
   "source": [
    "unif = train_path+'/uninfected'+'/C100P61ThinF_IMG_20150918_144104_cell_128.png'\n",
    "unif"
   ]
  },
  {
   "cell_type": "code",
   "execution_count": 16,
   "id": "1960ea20",
   "metadata": {},
   "outputs": [
    {
     "data": {
      "image/png": "[encoded data removed]",
      "text/plain": [
       "<Figure size 432x288 with 1 Axes>"
      ]
     },
     "metadata": {
      "needs_background": "light"
     },
     "output_type": "display_data"
    }
   ],
   "source": [
    "plt.imshow(imread(unif));"
   ]
  },
  {
   "cell_type": "code",
   "execution_count": 17,
   "id": "a2767512",
   "metadata": {},
   "outputs": [
    {
     "data": {
      "text/plain": [
       "(139, 160, 3)"
      ]
     },
     "execution_count": 17,
     "metadata": {},
     "output_type": "execute_result"
    }
   ],
   "source": [
    "imread(unif).shape"
   ]
  },
  {
   "cell_type": "code",
   "execution_count": 18,
   "id": "15fe175a",
   "metadata": {},
   "outputs": [
    {
     "data": {
      "text/plain": [
       "12480"
      ]
     },
     "execution_count": 18,
     "metadata": {},
     "output_type": "execute_result"
    }
   ],
   "source": [
    "len(os.listdir(train_path+'\\\\parasitized'))"
   ]
  },
  {
   "cell_type": "code",
   "execution_count": 19,
   "id": "d0b2c1f8",
   "metadata": {},
   "outputs": [
    {
     "data": {
      "text/plain": [
       "12480"
      ]
     },
     "execution_count": 19,
     "metadata": {},
     "output_type": "execute_result"
    }
   ],
   "source": [
    "len(os.listdir(train_path+'/uninfected'))"
   ]
  },
  {
   "cell_type": "markdown",
   "id": "b4d4fdba",
   "metadata": {},
   "source": [
    "- Let's find out the average dimensions of these images\n",
    "- Images are of different size\n",
    "- so lets take average image size and convert other images to mean value"
   ]
  },
  {
   "cell_type": "code",
   "execution_count": 20,
   "id": "4c405a14",
   "metadata": {},
   "outputs": [],
   "source": [
    "# https://stackoverflow.com/questions/1507084/how-to-check-dimensions-of-all-images-in-a-directory-using-python\n",
    "dim1 = []\n",
    "dim2 = []\n",
    "for image_filename in os.listdir(test_path+'\\\\uninfected'):\n",
    "    \n",
    "    img = imread(test_path+'\\\\uninfected'+'\\\\'+image_filename)\n",
    "    d1,d2,colors = img.shape\n",
    "    dim1.append(d1)\n",
    "    dim2.append(d2)"
   ]
  },
  {
   "cell_type": "code",
   "execution_count": 21,
   "id": "418415ea",
   "metadata": {},
   "outputs": [
    {
     "data": {
      "text/plain": [
       "[118,\n",
       " 172,\n",
       " 130,\n",
       " 163,\n",
       " 172,\n",
       " 139,\n",
       " 151,\n",
       " 160,\n",
       " 145,\n",
       " 127,\n",
       " 121,\n",
       " 154,\n",
       " 145,\n",
       " 127,\n",
       " 154,\n",
       " 151,\n",
       " 148,\n",
       " 130,\n",
       " 160,\n",
       " 136,\n",
       " 139,\n",
       " 190,\n",
       " 127,\n",
       " 133,\n",
       " 136,\n",
       " 124,\n",
       " 151,\n",
       " 151,\n",
       " 151,\n",
       " 160,\n",
       " 118,\n",
       " 154,\n",
       " 154,\n",
       " 121,\n",
       " 127,\n",
       " 118,\n",
       " 130,\n",
       " 124,\n",
       " 163,\n",
       " 88,\n",
       " 139,\n",
       " 127,\n",
       " 121,\n",
       " 139,\n",
       " 166,\n",
       " 133,\n",
       " 124,\n",
       " 154,\n",
       " 139,\n",
       " 127,\n",
       " 124,\n",
       " 136,\n",
       " 166,\n",
       " 133,\n",
       " 145,\n",
       " 157,\n",
       " 181,\n",
       " 148,\n",
       " 112,\n",
       " 124,\n",
       " 112,\n",
       " 106,\n",
       " 121,\n",
       " 148,\n",
       " 148,\n",
       " 112,\n",
       " 121,\n",
       " 148,\n",
       " 97,\n",
       " 112,\n",
       " 142,\n",
       " 118,\n",
       " 130,\n",
       " 151,\n",
       " 133,\n",
       " 136,\n",
       " 115,\n",
       " 145,\n",
       " 115,\n",
       " 142,\n",
       " 136,\n",
       " 130,\n",
       " 142,\n",
       " 124,\n",
       " 142,\n",
       " 136,\n",
       " 166,\n",
       " 148,\n",
       " 136,\n",
       " 142,\n",
       " 133,\n",
       " 130,\n",
       " 139,\n",
       " 124,\n",
       " 139,\n",
       " 121,\n",
       " 130,\n",
       " 142,\n",
       " 133,\n",
       " 118,\n",
       " 157,\n",
       " 127,\n",
       " 109,\n",
       " 112,\n",
       " 139,\n",
       " 142,\n",
       " 142,\n",
       " 112,\n",
       " 118,\n",
       " 100,\n",
       " 127,\n",
       " 145,\n",
       " 136,\n",
       " 160,\n",
       " 187,\n",
       " 130,\n",
       " 130,\n",
       " 157,\n",
       " 130,\n",
       " 130,\n",
       " 151,\n",
       " 175,\n",
       " 145,\n",
       " 136,\n",
       " 157,\n",
       " 133,\n",
       " 127,\n",
       " 154,\n",
       " 133,\n",
       " 151,\n",
       " 130,\n",
       " 136,\n",
       " 160,\n",
       " 130,\n",
       " 139,\n",
       " 145,\n",
       " 145,\n",
       " 145,\n",
       " 154,\n",
       " 133,\n",
       " 160,\n",
       " 142,\n",
       " 157,\n",
       " 145,\n",
       " 136,\n",
       " 121,\n",
       " 115,\n",
       " 121,\n",
       " 121,\n",
       " 127,\n",
       " 145,\n",
       " 130,\n",
       " 133,\n",
       " 142,\n",
       " 127,\n",
       " 121,\n",
       " 139,\n",
       " 118,\n",
       " 118,\n",
       " 148,\n",
       " 121,\n",
       " 145,\n",
       " 130,\n",
       " 169,\n",
       " 142,\n",
       " 136,\n",
       " 148,\n",
       " 142,\n",
       " 169,\n",
       " 115,\n",
       " 109,\n",
       " 166,\n",
       " 145,\n",
       " 127,\n",
       " 124,\n",
       " 124,\n",
       " 130,\n",
       " 196,\n",
       " 97,\n",
       " 115,\n",
       " 133,\n",
       " 139,\n",
       " 148,\n",
       " 109,\n",
       " 127,\n",
       " 175,\n",
       " 148,\n",
       " 136,\n",
       " 175,\n",
       " 151,\n",
       " 154,\n",
       " 133,\n",
       " 145,\n",
       " 115,\n",
       " 130,\n",
       " 121,\n",
       " 133,\n",
       " 142,\n",
       " 121,\n",
       " 136,\n",
       " 142,\n",
       " 136,\n",
       " 145,\n",
       " 127,\n",
       " 151,\n",
       " 136,\n",
       " 145,\n",
       " 166,\n",
       " 139,\n",
       " 151,\n",
       " 127,\n",
       " 136,\n",
       " 142,\n",
       " 118,\n",
       " 145,\n",
       " 127,\n",
       " 127,\n",
       " 118,\n",
       " 121,\n",
       " 121,\n",
       " 121,\n",
       " 106,\n",
       " 88,\n",
       " 136,\n",
       " 151,\n",
       " 133,\n",
       " 88,\n",
       " 142,\n",
       " 103,\n",
       " 124,\n",
       " 148,\n",
       " 151,\n",
       " 139,\n",
       " 157,\n",
       " 148,\n",
       " 154,\n",
       " 115,\n",
       " 115,\n",
       " 136,\n",
       " 133,\n",
       " 130,\n",
       " 136,\n",
       " 112,\n",
       " 115,\n",
       " 136,\n",
       " 109,\n",
       " 145,\n",
       " 133,\n",
       " 136,\n",
       " 112,\n",
       " 124,\n",
       " 115,\n",
       " 100,\n",
       " 118,\n",
       " 148,\n",
       " 118,\n",
       " 94,\n",
       " 145,\n",
       " 115,\n",
       " 136,\n",
       " 103,\n",
       " 172,\n",
       " 154,\n",
       " 151,\n",
       " 172,\n",
       " 124,\n",
       " 133,\n",
       " 181,\n",
       " 142,\n",
       " 136,\n",
       " 148,\n",
       " 136,\n",
       " 115,\n",
       " 103,\n",
       " 118,\n",
       " 121,\n",
       " 136,\n",
       " 130,\n",
       " 154,\n",
       " 115,\n",
       " 127,\n",
       " 130,\n",
       " 133,\n",
       " 130,\n",
       " 133,\n",
       " 136,\n",
       " 172,\n",
       " 157,\n",
       " 145,\n",
       " 133,\n",
       " 109,\n",
       " 154,\n",
       " 130,\n",
       " 142,\n",
       " 121,\n",
       " 118,\n",
       " 130,\n",
       " 127,\n",
       " 106,\n",
       " 133,\n",
       " 112,\n",
       " 118,\n",
       " 76,\n",
       " 118,\n",
       " 115,\n",
       " 163,\n",
       " 145,\n",
       " 154,\n",
       " 121,\n",
       " 127,\n",
       " 130,\n",
       " 148,\n",
       " 118,\n",
       " 115,\n",
       " 127,\n",
       " 121,\n",
       " 109,\n",
       " 118,\n",
       " 124,\n",
       " 145,\n",
       " 166,\n",
       " 142,\n",
       " 136,\n",
       " 130,\n",
       " 145,\n",
       " 142,\n",
       " 148,\n",
       " 106,\n",
       " 124,\n",
       " 106,\n",
       " 115,\n",
       " 115,\n",
       " 127,\n",
       " 124,\n",
       " 163,\n",
       " 139,\n",
       " 124,\n",
       " 106,\n",
       " 130,\n",
       " 106,\n",
       " 103,\n",
       " 121,\n",
       " 130,\n",
       " 127,\n",
       " 127,\n",
       " 121,\n",
       " 121,\n",
       " 127,\n",
       " 124,\n",
       " 136,\n",
       " 118,\n",
       " 127,\n",
       " 115,\n",
       " 124,\n",
       " 112,\n",
       " 115,\n",
       " 124,\n",
       " 121,\n",
       " 121,\n",
       " 133,\n",
       " 133,\n",
       " 103,\n",
       " 118,\n",
       " 124,\n",
       " 154,\n",
       " 109,\n",
       " 133,\n",
       " 145,\n",
       " 124,\n",
       " 115,\n",
       " 127,\n",
       " 115,\n",
       " 115,\n",
       " 103,\n",
       " 136,\n",
       " 118,\n",
       " 109,\n",
       " 124,\n",
       " 118,\n",
       " 127,\n",
       " 124,\n",
       " 124,\n",
       " 112,\n",
       " 115,\n",
       " 124,\n",
       " 109,\n",
       " 130,\n",
       " 112,\n",
       " 127,\n",
       " 121,\n",
       " 112,\n",
       " 142,\n",
       " 130,\n",
       " 127,\n",
       " 127,\n",
       " 130,\n",
       " 148,\n",
       " 100,\n",
       " 127,\n",
       " 118,\n",
       " 112,\n",
       " 112,\n",
       " 121,\n",
       " 118,\n",
       " 121,\n",
       " 121,\n",
       " 112,\n",
       " 121,\n",
       " 121,\n",
       " 100,\n",
       " 130,\n",
       " 127,\n",
       " 130,\n",
       " 127,\n",
       " 124,\n",
       " 127,\n",
       " 118,\n",
       " 106,\n",
       " 127,\n",
       " 103,\n",
       " 106,\n",
       " 109,\n",
       " 118,\n",
       " 151,\n",
       " 121,\n",
       " 100,\n",
       " 139,\n",
       " 118,\n",
       " 133,\n",
       " 127,\n",
       " 145,\n",
       " 127,\n",
       " 127,\n",
       " 106,\n",
       " 109,\n",
       " 97,\n",
       " 175,\n",
       " 118,\n",
       " 127,\n",
       " 145,\n",
       " 121,\n",
       " 136,\n",
       " 124,\n",
       " 175,\n",
       " 172,\n",
       " 172,\n",
       " 130,\n",
       " 130,\n",
       " 130,\n",
       " 127,\n",
       " 142,\n",
       " 121,\n",
       " 112,\n",
       " 145,\n",
       " 115,\n",
       " 133,\n",
       " 121,\n",
       " 109,\n",
       " 106,\n",
       " 136,\n",
       " 103,\n",
       " 130,\n",
       " 124,\n",
       " 124,\n",
       " 124,\n",
       " 130,\n",
       " 139,\n",
       " 145,\n",
       " 97,\n",
       " 133,\n",
       " 103,\n",
       " 115,\n",
       " 130,\n",
       " 106,\n",
       " 133,\n",
       " 124,\n",
       " 118,\n",
       " 118,\n",
       " 109,\n",
       " 124,\n",
       " 118,\n",
       " 160,\n",
       " 91,\n",
       " 118,\n",
       " 130,\n",
       " 112,\n",
       " 124,\n",
       " 190,\n",
       " 121,\n",
       " 115,\n",
       " 136,\n",
       " 175,\n",
       " 127,\n",
       " 130,\n",
       " 118,\n",
       " 109,\n",
       " 94,\n",
       " 157,\n",
       " 100,\n",
       " 106,\n",
       " 148,\n",
       " 130,\n",
       " 133,\n",
       " 109,\n",
       " 91,\n",
       " 97,\n",
       " 85,\n",
       " 97,\n",
       " 97,\n",
       " 118,\n",
       " 115,\n",
       " 130,\n",
       " 124,\n",
       " 109,\n",
       " 97,\n",
       " 109,\n",
       " 136,\n",
       " 166,\n",
       " 139,\n",
       " 130,\n",
       " 163,\n",
       " 136,\n",
       " 136,\n",
       " 94,\n",
       " 160,\n",
       " 118,\n",
       " 112,\n",
       " 124,\n",
       " 94,\n",
       " 100,\n",
       " 91,\n",
       " 88,\n",
       " 112,\n",
       " 130,\n",
       " 133,\n",
       " 112,\n",
       " 109,\n",
       " 112,\n",
       " 118,\n",
       " 154,\n",
       " 136,\n",
       " 142,\n",
       " 130,\n",
       " 148,\n",
       " 166,\n",
       " 121,\n",
       " 115,\n",
       " 115,\n",
       " 136,\n",
       " 130,\n",
       " 127,\n",
       " 124,\n",
       " 145,\n",
       " 139,\n",
       " 136,\n",
       " 136,\n",
       " 112,\n",
       " 142,\n",
       " 130,\n",
       " 112,\n",
       " 118,\n",
       " 133,\n",
       " 121,\n",
       " 118,\n",
       " 154,\n",
       " 133,\n",
       " 124,\n",
       " 124,\n",
       " 148,\n",
       " 97,\n",
       " 109,\n",
       " 106,\n",
       " 112,\n",
       " 127,\n",
       " 88,\n",
       " 103,\n",
       " 94,\n",
       " 124,\n",
       " 85,\n",
       " 142,\n",
       " 136,\n",
       " 142,\n",
       " 127,\n",
       " 115,\n",
       " 130,\n",
       " 124,\n",
       " 142,\n",
       " 124,\n",
       " 124,\n",
       " 124,\n",
       " 148,\n",
       " 136,\n",
       " 130,\n",
       " 148,\n",
       " 115,\n",
       " 124,\n",
       " 136,\n",
       " 118,\n",
       " 142,\n",
       " 127,\n",
       " 154,\n",
       " 121,\n",
       " 178,\n",
       " 127,\n",
       " 130,\n",
       " 136,\n",
       " 145,\n",
       " 133,\n",
       " 106,\n",
       " 169,\n",
       " 133,\n",
       " 154,\n",
       " 118,\n",
       " 106,\n",
       " 133,\n",
       " 130,\n",
       " 142,\n",
       " 130,\n",
       " 148,\n",
       " 133,\n",
       " 145,\n",
       " 121,\n",
       " 121,\n",
       " 133,\n",
       " 154,\n",
       " 163,\n",
       " 130,\n",
       " 151,\n",
       " 139,\n",
       " 124,\n",
       " 118,\n",
       " 136,\n",
       " 115,\n",
       " 145,\n",
       " 127,\n",
       " 124,\n",
       " 139,\n",
       " 160,\n",
       " 148,\n",
       " 121,\n",
       " 154,\n",
       " 127,\n",
       " 124,\n",
       " 145,\n",
       " 124,\n",
       " 127,\n",
       " 136,\n",
       " 124,\n",
       " 115,\n",
       " 118,\n",
       " 133,\n",
       " 118,\n",
       " 106,\n",
       " 127,\n",
       " 121,\n",
       " 130,\n",
       " 103,\n",
       " 130,\n",
       " 172,\n",
       " 136,\n",
       " 139,\n",
       " 130,\n",
       " 148,\n",
       " 145,\n",
       " 115,\n",
       " 130,\n",
       " 118,\n",
       " 148,\n",
       " 127,\n",
       " 142,\n",
       " 121,\n",
       " 136,\n",
       " 130,\n",
       " 118,\n",
       " 133,\n",
       " 127,\n",
       " 136,\n",
       " 145,\n",
       " 136,\n",
       " 136,\n",
       " 118,\n",
       " 136,\n",
       " 124,\n",
       " 127,\n",
       " 121,\n",
       " 151,\n",
       " 142,\n",
       " 133,\n",
       " 133,\n",
       " 139,\n",
       " 136,\n",
       " 148,\n",
       " 142,\n",
       " 142,\n",
       " 109,\n",
       " 124,\n",
       " 121,\n",
       " 121,\n",
       " 130,\n",
       " 142,\n",
       " 139,\n",
       " 148,\n",
       " 136,\n",
       " 139,\n",
       " 118,\n",
       " 145,\n",
       " 121,\n",
       " 130,\n",
       " 124,\n",
       " 121,\n",
       " 109,\n",
       " 130,\n",
       " 136,\n",
       " 148,\n",
       " 127,\n",
       " 130,\n",
       " 142,\n",
       " 178,\n",
       " 121,\n",
       " 127,\n",
       " 136,\n",
       " 151,\n",
       " 121,\n",
       " 115,\n",
       " 115,\n",
       " 148,\n",
       " 124,\n",
       " 112,\n",
       " 118,\n",
       " 130,\n",
       " 124,\n",
       " 136,\n",
       " 160,\n",
       " 133,\n",
       " 145,\n",
       " 133,\n",
       " 133,\n",
       " 133,\n",
       " 136,\n",
       " 136,\n",
       " 139,\n",
       " 136,\n",
       " 160,\n",
       " 124,\n",
       " 103,\n",
       " 124,\n",
       " 130,\n",
       " 112,\n",
       " 154,\n",
       " 139,\n",
       " 139,\n",
       " 124,\n",
       " 142,\n",
       " 121,\n",
       " 145,\n",
       " 124,\n",
       " 145,\n",
       " 142,\n",
       " 133,\n",
       " 118,\n",
       " 151,\n",
       " 142,\n",
       " 133,\n",
       " 154,\n",
       " 124,\n",
       " 163,\n",
       " 139,\n",
       " 178,\n",
       " 115,\n",
       " 136,\n",
       " 142,\n",
       " 142,\n",
       " 145,\n",
       " 154,\n",
       " 115,\n",
       " 118,\n",
       " 124,\n",
       " 121,\n",
       " 136,\n",
       " 127,\n",
       " 124,\n",
       " 127,\n",
       " 106,\n",
       " 121,\n",
       " 127,\n",
       " 136,\n",
       " 109,\n",
       " 112,\n",
       " 124,\n",
       " 103,\n",
       " 139,\n",
       " 115,\n",
       " 136,\n",
       " 106,\n",
       " 127,\n",
       " 121,\n",
       " 130,\n",
       " 136,\n",
       " 136,\n",
       " 124,\n",
       " 115,\n",
       " 124,\n",
       " 121,\n",
       " 136,\n",
       " 121,\n",
       " 142,\n",
       " 124,\n",
       " 133,\n",
       " 124,\n",
       " 130,\n",
       " 127,\n",
       " 109,\n",
       " 157,\n",
       " 133,\n",
       " 124,\n",
       " 130,\n",
       " 145,\n",
       " 127,\n",
       " 118,\n",
       " 130,\n",
       " 157,\n",
       " 142,\n",
       " 139,\n",
       " 124,\n",
       " 139,\n",
       " 139,\n",
       " 136,\n",
       " 160,\n",
       " 97,\n",
       " 139,\n",
       " 133,\n",
       " 136,\n",
       " 136,\n",
       " 139,\n",
       " 142,\n",
       " 127,\n",
       " 112,\n",
       " 118,\n",
       " 118,\n",
       " 115,\n",
       " 106,\n",
       " 97,\n",
       " 130,\n",
       " 115,\n",
       " 136,\n",
       " 127,\n",
       " 103,\n",
       " 106,\n",
       " 118,\n",
       " 136,\n",
       " 133,\n",
       " 115,\n",
       " 133,\n",
       " 124,\n",
       " 133,\n",
       " 133,\n",
       " 118,\n",
       " 157,\n",
       " 112,\n",
       " 142,\n",
       " 151,\n",
       " 154,\n",
       " 169,\n",
       " 136,\n",
       " 130,\n",
       " 142,\n",
       " 121,\n",
       " 121,\n",
       " 148,\n",
       " 136,\n",
       " 142,\n",
       " 127,\n",
       " 142,\n",
       " 127,\n",
       " 118,\n",
       " 148,\n",
       " 154,\n",
       " 154,\n",
       " 166,\n",
       " 118,\n",
       " 142,\n",
       " 154,\n",
       " 139,\n",
       " 124,\n",
       " 127,\n",
       " 145,\n",
       " 115,\n",
       " 109,\n",
       " 121,\n",
       " 106,\n",
       " 130,\n",
       " 106,\n",
       " 148,\n",
       " 139,\n",
       " 127,\n",
       " 112,\n",
       " 136,\n",
       " 142,\n",
       " 112,\n",
       " 133,\n",
       " 130,\n",
       " 112,\n",
       " 118,\n",
       " 121,\n",
       " 112,\n",
       " 136,\n",
       " 121,\n",
       " 127,\n",
       " 124,\n",
       " 124,\n",
       " 124,\n",
       " 124,\n",
       " 118,\n",
       " 130,\n",
       " 112,\n",
       " 115,\n",
       " 118,\n",
       " 154,\n",
       " 109,\n",
       " 112,\n",
       " 136,\n",
       " 121,\n",
       " 121,\n",
       " 139,\n",
       " 115,\n",
       " 133,\n",
       " 160,\n",
       " 127,\n",
       " 133,\n",
       " 142,\n",
       " 109,\n",
       " 139,\n",
       " 133,\n",
       " 121,\n",
       " 100,\n",
       " 130,\n",
       " 145,\n",
       " 130,\n",
       " 103,\n",
       " 118,\n",
       " 115,\n",
       " 94,\n",
       " 124,\n",
       " 133,\n",
       " 136,\n",
       " 121,\n",
       " 85,\n",
       " 121,\n",
       " 103,\n",
       " 139,\n",
       " 124,\n",
       " 61,\n",
       " 106,\n",
       " 121,\n",
       " 124,\n",
       " 127,\n",
       " 118,\n",
       " 130,\n",
       " 154,\n",
       " 142,\n",
       " 130,\n",
       " 124,\n",
       " 157,\n",
       " 124,\n",
       " 127,\n",
       " 133,\n",
       " 133,\n",
       " 130,\n",
       " 199,\n",
       " 127,\n",
       " 121,\n",
       " 127,\n",
       " 139,\n",
       " 121,\n",
       " 118,\n",
       " 124,\n",
       " 112,\n",
       " 160,\n",
       " 127,\n",
       " 139,\n",
       " 124,\n",
       " 118,\n",
       " 115,\n",
       " 127,\n",
       " 118,\n",
       " 115,\n",
       " 130,\n",
       " 160,\n",
       " 103,\n",
       " 151,\n",
       " 118,\n",
       " 109,\n",
       " 118,\n",
       " 103,\n",
       " 121,\n",
       " 130,\n",
       " 127,\n",
       " 121,\n",
       " 103,\n",
       " 130,\n",
       " ...]"
      ]
     },
     "execution_count": 21,
     "metadata": {},
     "output_type": "execute_result"
    }
   ],
   "source": [
    "dim1 # all images are of different shape"
   ]
  },
  {
   "cell_type": "code",
   "execution_count": 22,
   "id": "0cd15437",
   "metadata": {},
   "outputs": [
    {
     "name": "stderr",
     "output_type": "stream",
     "text": [
      "C:\\Users\\aldrinds\\Anaconda3\\lib\\site-packages\\seaborn\\_decorators.py:36: FutureWarning: Pass the following variables as keyword args: x, y. From version 0.12, the only valid positional argument will be `data`, and passing other arguments without an explicit keyword will result in an error or misinterpretation.\n",
      "  warnings.warn(\n"
     ]
    },
    {
     "data": {
      "image/png": "[encoded data removed]",
      "text/plain": [
       "<Figure size 432x432 with 3 Axes>"
      ]
     },
     "metadata": {
      "needs_background": "light"
     },
     "output_type": "display_data"
    }
   ],
   "source": [
    "sns.jointplot(dim1,dim2);  # mean is around 130,130 from graph"
   ]
  },
  {
   "cell_type": "code",
   "execution_count": 23,
   "id": "efc8c95f",
   "metadata": {},
   "outputs": [
    {
     "data": {
      "text/plain": [
       "130.92538461538462"
      ]
     },
     "execution_count": 23,
     "metadata": {},
     "output_type": "execute_result"
    }
   ],
   "source": [
    "np.mean(dim1)"
   ]
  },
  {
   "cell_type": "code",
   "execution_count": 24,
   "id": "e2822b5a",
   "metadata": {},
   "outputs": [
    {
     "data": {
      "text/plain": [
       "130.75"
      ]
     },
     "execution_count": 24,
     "metadata": {},
     "output_type": "execute_result"
    }
   ],
   "source": [
    "np.mean(dim2)"
   ]
  },
  {
   "cell_type": "markdown",
   "id": "53f3b5ba",
   "metadata": {},
   "source": [
    "--------------------------------"
   ]
  },
  {
   "cell_type": "code",
   "execution_count": 26,
   "id": "4f6157b6",
   "metadata": {},
   "outputs": [],
   "source": [
    "from tensorflow.keras.preprocessing.image import ImageDataGenerator"
   ]
  },
  {
   "cell_type": "code",
   "execution_count": 27,
   "id": "e0939932",
   "metadata": {},
   "outputs": [],
   "source": [
    "image_gen = ImageDataGenerator(rotation_range= 20,width_shift_range= 0.1,height_shift_range= 0.1,\n",
    "                              shear_range= 0.1,zoom_range= 0.1,horizontal_flip= True,vertical_flip= True,\n",
    "                              fill_mode= 'nearest')"
   ]
  },
  {
   "cell_type": "code",
   "execution_count": 28,
   "id": "3153efaf",
   "metadata": {},
   "outputs": [
    {
     "data": {
      "image/png": "[encoded data removed]",
      "text/plain": [
       "<Figure size 432x288 with 1 Axes>"
      ]
     },
     "metadata": {
      "needs_background": "light"
     },
     "output_type": "display_data"
    }
   ],
   "source": [
    "plt.imshow(image_gen.random_transform(imread(para_cell)));"
   ]
  },
  {
   "cell_type": "code",
   "execution_count": 29,
   "id": "f274269e",
   "metadata": {},
   "outputs": [
    {
     "data": {
      "image/png": "[encoded data removed]",
      "text/plain": [
       "<Figure size 432x288 with 1 Axes>"
      ]
     },
     "metadata": {
      "needs_background": "light"
     },
     "output_type": "display_data"
    }
   ],
   "source": [
    "plt.imshow(image_gen.random_transform(imread(para_cell)));"
   ]
  },
  {
   "cell_type": "code",
   "execution_count": 30,
   "id": "05df5b7a",
   "metadata": {},
   "outputs": [
    {
     "name": "stdout",
     "output_type": "stream",
     "text": [
      "Found 24958 images belonging to 2 classes.\n"
     ]
    },
    {
     "data": {
      "text/plain": [
       "<keras.preprocessing.image.DirectoryIterator at 0x21b37992ca0>"
      ]
     },
     "execution_count": 30,
     "metadata": {},
     "output_type": "execute_result"
    }
   ],
   "source": [
    "image_gen.flow_from_directory(train_path)"
   ]
  },
  {
   "cell_type": "code",
   "execution_count": 31,
   "id": "7dde8764",
   "metadata": {},
   "outputs": [
    {
     "name": "stdout",
     "output_type": "stream",
     "text": [
      "Found 2600 images belonging to 2 classes.\n"
     ]
    },
    {
     "data": {
      "text/plain": [
       "<keras.preprocessing.image.DirectoryIterator at 0x21b37a2cf40>"
      ]
     },
     "execution_count": 31,
     "metadata": {},
     "output_type": "execute_result"
    }
   ],
   "source": [
    "image_gen.flow_from_directory(test_path)"
   ]
  },
  {
   "cell_type": "markdown",
   "id": "8f93b4ae",
   "metadata": {},
   "source": [
    "-------------------"
   ]
  },
  {
   "cell_type": "markdown",
   "id": "76ebf4ec",
   "metadata": {},
   "source": [
    "## Creating Model"
   ]
  },
  {
   "cell_type": "code",
   "execution_count": 32,
   "id": "eef4e089",
   "metadata": {},
   "outputs": [],
   "source": [
    "from tensorflow.keras.models import Sequential\n",
    "from tensorflow.keras.layers import Dense,Conv2D,MaxPooling2D,Flatten,Dropout"
   ]
  },
  {
   "cell_type": "code",
   "execution_count": 33,
   "id": "5a12f17e",
   "metadata": {},
   "outputs": [],
   "source": [
    "model = Sequential()\n",
    "model.add(Conv2D(32,kernel_size= (3,3),activation= \"relu\",input_shape = input_shape))\n",
    "model.add(MaxPooling2D())\n",
    "\n",
    "model.add(Conv2D(64,kernel_size= (3,3),activation= \"relu\"))\n",
    "model.add(MaxPooling2D())\n",
    "\n",
    "model.add(Conv2D(128,kernel_size= (3,3),activation= \"relu\"))\n",
    "model.add(MaxPooling2D())\n",
    "\n",
    "model.add(Conv2D(128,kernel_size= (3,3),activation= \"relu\"))\n",
    "model.add(MaxPooling2D())\n",
    "\n",
    "model.add(Flatten())\n",
    "model.add(Dense(128,activation= \"relu\"))\n",
    "model.add(Dropout(0.3))\n",
    "model.add(Dense(128,activation= \"relu\"))\n",
    "model.add(Dropout(0.3))\n",
    "model.add(Dense(1,activation=\"sigmoid\"))"
   ]
  },
  {
   "cell_type": "code",
   "execution_count": 34,
   "id": "0a3843f5",
   "metadata": {},
   "outputs": [
    {
     "name": "stdout",
     "output_type": "stream",
     "text": [
      "Model: \"sequential\"\n",
      "_________________________________________________________________\n",
      " Layer (type)                Output Shape              Param #   \n",
      "=================================================================\n",
      " conv2d (Conv2D)             (None, 128, 128, 32)      896       \n",
      "                                                                 \n",
      " max_pooling2d (MaxPooling2D  (None, 64, 64, 32)       0         \n",
      " )                                                               \n",
      "                                                                 \n",
      " conv2d_1 (Conv2D)           (None, 62, 62, 64)        18496     \n",
      "                                                                 \n",
      " max_pooling2d_1 (MaxPooling  (None, 31, 31, 64)       0         \n",
      " 2D)                                                             \n",
      "                                                                 \n",
      " conv2d_2 (Conv2D)           (None, 29, 29, 128)       73856     \n",
      "                                                                 \n",
      " max_pooling2d_2 (MaxPooling  (None, 14, 14, 128)      0         \n",
      " 2D)                                                             \n",
      "                                                                 \n",
      " conv2d_3 (Conv2D)           (None, 12, 12, 128)       147584    \n",
      "                                                                 \n",
      " max_pooling2d_3 (MaxPooling  (None, 6, 6, 128)        0         \n",
      " 2D)                                                             \n",
      "                                                                 \n",
      " flatten (Flatten)           (None, 4608)              0         \n",
      "                                                                 \n",
      " dense (Dense)               (None, 128)               589952    \n",
      "                                                                 \n",
      " dropout (Dropout)           (None, 128)               0         \n",
      "                                                                 \n",
      " dense_1 (Dense)             (None, 128)               16512     \n",
      "                                                                 \n",
      " dropout_1 (Dropout)         (None, 128)               0         \n",
      "                                                                 \n",
      " dense_2 (Dense)             (None, 1)                 129       \n",
      "                                                                 \n",
      "=================================================================\n",
      "Total params: 847,425\n",
      "Trainable params: 847,425\n",
      "Non-trainable params: 0\n",
      "_________________________________________________________________\n"
     ]
    }
   ],
   "source": [
    "model.summary()"
   ]
  },
  {
   "cell_type": "code",
   "execution_count": 35,
   "id": "38833d38",
   "metadata": {},
   "outputs": [],
   "source": [
    "model.compile(loss = \"binary_crossentropy\",optimizer = \"adam\", metrics= [\"accuracy\"])"
   ]
  },
  {
   "cell_type": "code",
   "execution_count": 36,
   "id": "d6e1766e",
   "metadata": {},
   "outputs": [
    {
     "name": "stdout",
     "output_type": "stream",
     "text": [
      "Found 24958 images belonging to 2 classes.\n"
     ]
    }
   ],
   "source": [
    "train_image_gen = image_gen.flow_from_directory(train_path,target_size= (130,130),class_mode= \"binary\",batch_size= 16)"
   ]
  },
  {
   "cell_type": "code",
   "execution_count": 37,
   "id": "5f5df1e8",
   "metadata": {},
   "outputs": [
    {
     "name": "stdout",
     "output_type": "stream",
     "text": [
      "Found 2600 images belonging to 2 classes.\n"
     ]
    }
   ],
   "source": [
    "test_image_gen = image_gen.flow_from_directory(test_path,target_size=(130,130),class_mode= \"binary\",batch_size= 16)"
   ]
  },
  {
   "cell_type": "code",
   "execution_count": 38,
   "id": "bbb8794d",
   "metadata": {},
   "outputs": [
    {
     "data": {
      "text/plain": [
       "{'parasitized': 0, 'uninfected': 1}"
      ]
     },
     "execution_count": 38,
     "metadata": {},
     "output_type": "execute_result"
    }
   ],
   "source": [
    "train_image_gen.class_indices"
   ]
  },
  {
   "cell_type": "code",
   "execution_count": 39,
   "id": "5094656c",
   "metadata": {},
   "outputs": [],
   "source": [
    "class myCallback(tf.keras.callbacks.Callback):\n",
    "    def on_epoch_end(self, epoch, logs={}):\n",
    "        if(logs.get('val_accuracy')>0.94):\n",
    "            print(\"\\nReached 95% accuracy so cancelling training!\")\n",
    "            self.model.stop_training = True\n",
    "\n",
    "callbacks = myCallback()"
   ]
  },
  {
   "cell_type": "code",
   "execution_count": 40,
   "id": "d9c18200",
   "metadata": {
    "scrolled": false
   },
   "outputs": [
    {
     "name": "stderr",
     "output_type": "stream",
     "text": [
      "C:\\Users\\aldrinds\\AppData\\Local\\Temp/ipykernel_11932/401419409.py:1: UserWarning: `Model.fit_generator` is deprecated and will be removed in a future version. Please use `Model.fit`, which supports generators.\n",
      "  model.fit_generator(train_image_gen,epochs= 20,validation_data= test_image_gen,callbacks= callbacks)\n"
     ]
    },
    {
     "name": "stdout",
     "output_type": "stream",
     "text": [
      "Epoch 1/20\n",
      "1560/1560 [==============================] - ETA: 0s - loss: 0.3584 - accuracy: 0.8569\n",
      "Reached 95% accuracy so cancelling training!\n",
      "1560/1560 [==============================] - 542s 347ms/step - loss: 0.3584 - accuracy: 0.8569 - val_loss: 0.1862 - val_accuracy: 0.9435\n"
     ]
    },
    {
     "data": {
      "text/plain": [
       "<keras.callbacks.History at 0x21b38201250>"
      ]
     },
     "execution_count": 40,
     "metadata": {},
     "output_type": "execute_result"
    }
   ],
   "source": [
    "model.fit_generator(train_image_gen,epochs= 20,validation_data= test_image_gen,callbacks= callbacks)"
   ]
  },
  {
   "cell_type": "markdown",
   "id": "19ffc1d0",
   "metadata": {},
   "source": [
    "--------------"
   ]
  },
  {
   "cell_type": "markdown",
   "id": "fbccd74c",
   "metadata": {},
   "source": [
    "### Testing and Predictions"
   ]
  },
  {
   "cell_type": "code",
   "execution_count": 41,
   "id": "5a85d55c",
   "metadata": {},
   "outputs": [
    {
     "data": {
      "text/html": [
       "<div>\n",
       "<style scoped>\n",
       "    .dataframe tbody tr th:only-of-type {\n",
       "        vertical-align: middle;\n",
       "    }\n",
       "\n",
       "    .dataframe tbody tr th {\n",
       "        vertical-align: top;\n",
       "    }\n",
       "\n",
       "    .dataframe thead th {\n",
       "        text-align: right;\n",
       "    }\n",
       "</style>\n",
       "<table border=\"1\" class=\"dataframe\">\n",
       "  <thead>\n",
       "    <tr style=\"text-align: right;\">\n",
       "      <th></th>\n",
       "      <th>loss</th>\n",
       "      <th>accuracy</th>\n",
       "      <th>val_loss</th>\n",
       "      <th>val_accuracy</th>\n",
       "    </tr>\n",
       "  </thead>\n",
       "  <tbody>\n",
       "    <tr>\n",
       "      <th>0</th>\n",
       "      <td>0.358412</td>\n",
       "      <td>0.85692</td>\n",
       "      <td>0.186224</td>\n",
       "      <td>0.943462</td>\n",
       "    </tr>\n",
       "  </tbody>\n",
       "</table>\n",
       "</div>"
      ],
      "text/plain": [
       "       loss  accuracy  val_loss  val_accuracy\n",
       "0  0.358412   0.85692  0.186224      0.943462"
      ]
     },
     "execution_count": 41,
     "metadata": {},
     "output_type": "execute_result"
    }
   ],
   "source": [
    "hist = pd.DataFrame(model.history.history)\n",
    "hist"
   ]
  },
  {
   "cell_type": "code",
   "execution_count": 42,
   "id": "543010a4",
   "metadata": {},
   "outputs": [
    {
     "data": {
      "image/png": "[encoded data removed]",
      "text/plain": [
       "<Figure size 432x288 with 1 Axes>"
      ]
     },
     "metadata": {
      "needs_background": "light"
     },
     "output_type": "display_data"
    }
   ],
   "source": [
    "hist[[\"loss\",\"val_loss\"]].plot();"
   ]
  },
  {
   "cell_type": "code",
   "execution_count": 43,
   "id": "13c3c03f",
   "metadata": {},
   "outputs": [
    {
     "name": "stdout",
     "output_type": "stream",
     "text": [
      "163/163 - 18s - loss: 0.1858 - accuracy: 0.9435 - 18s/epoch - 111ms/step\n"
     ]
    },
    {
     "data": {
      "text/plain": [
       "[0.18575695157051086, 0.943461537361145]"
      ]
     },
     "execution_count": 43,
     "metadata": {},
     "output_type": "execute_result"
    }
   ],
   "source": [
    "model.evaluate(test_image_gen,verbose = 2)"
   ]
  },
  {
   "cell_type": "code",
   "execution_count": 44,
   "id": "a8e362bc",
   "metadata": {},
   "outputs": [],
   "source": [
    "from tensorflow.keras.preprocessing import image"
   ]
  },
  {
   "cell_type": "code",
   "execution_count": 45,
   "id": "80d12674",
   "metadata": {},
   "outputs": [
    {
     "data": {
      "image/png": "[encoded data removed]",
      "text/plain": [
       "<PIL.Image.Image image mode=RGB size=130x130 at 0x21B379C5280>"
      ]
     },
     "execution_count": 45,
     "metadata": {},
     "output_type": "execute_result"
    }
   ],
   "source": [
    "pred_img1 = image.load_img(para_cell,target_size= (130,130))\n",
    "pred_img1"
   ]
  },
  {
   "cell_type": "code",
   "execution_count": 46,
   "id": "00593134",
   "metadata": {},
   "outputs": [
    {
     "data": {
      "text/plain": [
       "(130, 130, 3)"
      ]
     },
     "execution_count": 46,
     "metadata": {},
     "output_type": "execute_result"
    }
   ],
   "source": [
    "pred_img1 = image.img_to_array(pred_img1)\n",
    "pred_img1.shape"
   ]
  },
  {
   "cell_type": "code",
   "execution_count": 47,
   "id": "a4af6e73",
   "metadata": {},
   "outputs": [
    {
     "data": {
      "text/plain": [
       "(1, 130, 130, 3)"
      ]
     },
     "execution_count": 47,
     "metadata": {},
     "output_type": "execute_result"
    }
   ],
   "source": [
    "pred_img1 = np.expand_dims(pred_img1,axis=0)\n",
    "pred_img1.shape"
   ]
  },
  {
   "cell_type": "code",
   "execution_count": 48,
   "id": "af5e9588",
   "metadata": {},
   "outputs": [
    {
     "data": {
      "text/plain": [
       "array([[0.01108006]], dtype=float32)"
      ]
     },
     "execution_count": 48,
     "metadata": {},
     "output_type": "execute_result"
    }
   ],
   "source": [
    "a = model.predict(pred_img1)\n",
    "a"
   ]
  },
  {
   "cell_type": "code",
   "execution_count": 49,
   "id": "e5712fb9",
   "metadata": {},
   "outputs": [
    {
     "data": {
      "text/plain": [
       "{'parasitized': 0, 'uninfected': 1}"
      ]
     },
     "execution_count": 49,
     "metadata": {},
     "output_type": "execute_result"
    }
   ],
   "source": [
    "train_image_gen.class_indices"
   ]
  },
  {
   "cell_type": "code",
   "execution_count": 50,
   "id": "bb03208b",
   "metadata": {},
   "outputs": [],
   "source": [
    "def pred(x):\n",
    "    if a> 0.4:\n",
    "        print(\"1---> uninfected\")\n",
    "    else:\n",
    "        print('0--> parasitized')"
   ]
  },
  {
   "cell_type": "code",
   "execution_count": 51,
   "id": "a019a90c",
   "metadata": {},
   "outputs": [
    {
     "name": "stdout",
     "output_type": "stream",
     "text": [
      "0--> parasitized\n"
     ]
    }
   ],
   "source": [
    "pred(a)"
   ]
  },
  {
   "cell_type": "markdown",
   "id": "d4389e0c",
   "metadata": {},
   "source": [
    "## predict manual images"
   ]
  },
  {
   "cell_type": "code",
   "execution_count": 52,
   "id": "5b25c0e3",
   "metadata": {},
   "outputs": [],
   "source": [
    "def img(s):\n",
    "    z = image.load_img(s,target_size= (input_shape))\n",
    "    z\n",
    "    z = image.img_to_array(z)\n",
    "    z = np.expand_dims(z,axis = 0)\n",
    "    a = model.predict(z)\n",
    "    \n",
    "    if a> 0.4:\n",
    "        print(\"1---> uninfected\")\n",
    "    else:\n",
    "        print('0--> parasitized')"
   ]
  },
  {
   "cell_type": "code",
   "execution_count": 59,
   "id": "33a69125",
   "metadata": {},
   "outputs": [
    {
     "name": "stdout",
     "output_type": "stream",
     "text": [
      "0--> parasitized\n"
     ]
    }
   ],
   "source": [
    "img(\"infected_3.png\")"
   ]
  }
 ],
 "metadata": {
  "kernelspec": {
   "display_name": "Python 3 (ipykernel)",
   "language": "python",
   "name": "python3"
  },
  "language_info": {
   "codemirror_mode": {
    "name": "ipython",
    "version": 3
   },
   "file_extension": ".py",
   "mimetype": "text/x-python",
   "name": "python",
   "nbconvert_exporter": "python",
   "pygments_lexer": "ipython3",
   "version": "3.9.7"
  }
 },
 "nbformat": 4,
 "nbformat_minor": 5
}
