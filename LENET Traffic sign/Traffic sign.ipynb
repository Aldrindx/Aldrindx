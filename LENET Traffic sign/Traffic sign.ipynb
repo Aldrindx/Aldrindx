{
 "cells": [
  {
   "cell_type": "markdown",
   "id": "150f8d7f",
   "metadata": {},
   "source": [
    "- The dataset contains 43 different classes of images. \n",
    "- Classes are as listed below: \n",
    "\n",
    "    - ( 0, b'Speed limit (20km/h)') ( 1, b'Speed limit (30km/h)')\n",
    "    - ( 2, b'Speed limit (50km/h)') ( 3, b'Speed limit (60km/h)')\n",
    "    - ( 4, b'Speed limit (70km/h)') ( 5, b'Speed limit (80km/h)')\n",
    "    - ( 6, b'End of speed limit (80km/h)') ( 7, b'Speed limit (100km/h)')\n",
    "    - ( 8, b'Speed limit (120km/h)') ( 9, b'No passing')\n",
    "    - (10, b'No passing for vehicles over 3.5 metric tons')\n",
    "    - (11, b'Right-of-way at the next intersection') (12, b'Priority road')\n",
    "    - (13, b'Yield') (14, b'Stop') (15, b'No vehicles')\n",
    "    - (16, b'Vehicles over 3.5 metric tons prohibited') (17, b'No entry')\n",
    "    - (18, b'General caution') (19, b'Dangerous curve to the left')\n",
    "    - (20, b'Dangerous curve to the right') (21, b'Double curve')\n",
    "    - (22, b'Bumpy road') (23, b'Slippery road')\n",
    "    - (24, b'Road narrows on the right') (25, b'Road work')\n",
    "    - (26, b'Traffic signals') (27, b'Pedestrians') (28, b'Children crossing')\n",
    "    - (29, b'Bicycles crossing') (30, b'Beware of ice/snow')\n",
    "    - (31, b'Wild animals crossing')\n",
    "    - (32, b'End of all speed and passing limits') (33, b'Turn right ahead')\n",
    "    - (34, b'Turn left ahead') (35, b'Ahead only') (36, b'Go straight or right')\n",
    "    - (37, b'Go straight or left') (38, b'Keep right') (39, b'Keep left')\n",
    "    - (40, b'Roundabout mandatory') (41, b'End of no passing')\n",
    "    - (42, b'End of no passing by vehicles over 3.5 metric tons')"
   ]
  },
  {
   "cell_type": "code",
   "execution_count": 1,
   "id": "4e5d2ce2",
   "metadata": {},
   "outputs": [],
   "source": [
    "import numpy as np\n",
    "import pandas as pd\n",
    "import matplotlib.pyplot as plt\n",
    "import seaborn as sns\n",
    "import warnings; warnings.filterwarnings(\"ignore\")\n",
    "import tensorflow as tf\n",
    "import pickle as pk"
   ]
  },
  {
   "cell_type": "code",
   "execution_count": 2,
   "id": "57ab9712",
   "metadata": {},
   "outputs": [],
   "source": [
    "with open(\"traffic-signs-data/train.p\", \"rb\") as f:\n",
    "    train = pk.load(f)\n",
    "    \n",
    "with open(\"traffic-signs-data/valid.p\", \"rb\") as w:\n",
    "    valid = pk.load(w)\n",
    "    \n",
    "with open(\"traffic-signs-data/test.p\", \"rb\") as s:\n",
    "    test = pk.load(s)"
   ]
  },
  {
   "cell_type": "code",
   "execution_count": 3,
   "id": "f62fe4a7",
   "metadata": {},
   "outputs": [],
   "source": [
    "X_train, y_train = train[\"features\"], train[\"labels\"]\n",
    "X_valid, y_valid = valid[\"features\"], valid[\"labels\"]\n",
    "X_test, y_test = test[\"features\"], test[\"labels\"]"
   ]
  },
  {
   "cell_type": "code",
   "execution_count": 4,
   "id": "b79bcb2c",
   "metadata": {},
   "outputs": [
    {
     "data": {
      "text/plain": [
       "((34799, 32, 32, 3), (34799,))"
      ]
     },
     "execution_count": 4,
     "metadata": {},
     "output_type": "execute_result"
    }
   ],
   "source": [
    "X_train.shape,y_train.shape"
   ]
  },
  {
   "cell_type": "markdown",
   "id": "457474c6",
   "metadata": {},
   "source": [
    "--------------"
   ]
  },
  {
   "cell_type": "code",
   "execution_count": 5,
   "id": "41b4a7fc",
   "metadata": {},
   "outputs": [
    {
     "name": "stdout",
     "output_type": "stream",
     "text": [
      "0\n"
     ]
    },
    {
     "data": {
      "image/png": "[encoded data removed]",
      "text/plain": [
       "<Figure size 432x288 with 1 Axes>"
      ]
     },
     "metadata": {
      "needs_background": "light"
     },
     "output_type": "display_data"
    }
   ],
   "source": [
    "i = 9999\n",
    "plt.imshow(X_train[i]);\n",
    "print(y_train[i])"
   ]
  },
  {
   "cell_type": "markdown",
   "id": "67e71acd",
   "metadata": {},
   "source": [
    "-------------"
   ]
  },
  {
   "cell_type": "code",
   "execution_count": 6,
   "id": "3e49c7ba",
   "metadata": {},
   "outputs": [],
   "source": [
    "from sklearn.utils import shuffle\n",
    "X_train, y_train = shuffle(X_train, y_train)"
   ]
  },
  {
   "cell_type": "code",
   "execution_count": 7,
   "id": "dc751a38",
   "metadata": {},
   "outputs": [],
   "source": [
    "X_train_gray =  np.sum(X_train/3, axis=3, keepdims=True)\n",
    "X_valid_gray = np.sum(X_valid/3, axis=3, keepdims=True) \n",
    "X_test_gray  = np.sum(X_test/3, axis=3, keepdims=True)"
   ]
  },
  {
   "cell_type": "code",
   "execution_count": 8,
   "id": "b6334384",
   "metadata": {},
   "outputs": [
    {
     "data": {
      "text/plain": [
       "((34799, 32, 32, 1), (4410, 32, 32, 1))"
      ]
     },
     "execution_count": 8,
     "metadata": {},
     "output_type": "execute_result"
    }
   ],
   "source": [
    "X_train_gray.shape, X_valid_gray.shape"
   ]
  },
  {
   "cell_type": "code",
   "execution_count": 9,
   "id": "531dc498",
   "metadata": {},
   "outputs": [],
   "source": [
    "# 1/255 --> value ranges from 0 to 1\n",
    "# (X -128)/128 value ranges from -1 to 1\n",
    "\n",
    "X_train_norm = (X_train_gray - 128)/128\n",
    "X_valid_norm = (X_valid_gray - 128)/128\n",
    "X_test_norm = (X_test_gray - 128)/128"
   ]
  },
  {
   "cell_type": "code",
   "execution_count": 10,
   "id": "a36c5c2e",
   "metadata": {},
   "outputs": [
    {
     "name": "stdout",
     "output_type": "stream",
     "text": [
      " The Max and Min values are: (0.9921875, -0.9713541666666666)\n"
     ]
    }
   ],
   "source": [
    "print(f\" The Max and Min values are: {X_train_norm.max(),X_train_norm.min()}\")"
   ]
  },
  {
   "cell_type": "code",
   "execution_count": 11,
   "id": "23a5851c",
   "metadata": {},
   "outputs": [
    {
     "name": "stdout",
     "output_type": "stream",
     "text": [
      "Gray_scale\n"
     ]
    },
    {
     "data": {
      "image/png": "[encoded data removed]",
      "text/plain": [
       "<Figure size 432x288 with 1 Axes>"
      ]
     },
     "metadata": {
      "needs_background": "light"
     },
     "output_type": "display_data"
    },
    {
     "name": "stdout",
     "output_type": "stream",
     "text": [
      "RGB scaled\n"
     ]
    },
    {
     "data": {
      "image/png": "[encoded data removed]",
      "text/plain": [
       "<Figure size 432x288 with 1 Axes>"
      ]
     },
     "metadata": {
      "needs_background": "light"
     },
     "output_type": "display_data"
    }
   ],
   "source": [
    "i = 619\n",
    "\n",
    "print(\"Gray_scale\")\n",
    "plt.imshow(X_train_gray[i],cmap = \"gray\")\n",
    "plt.show()\n",
    "plt.figure()\n",
    "plt.imshow(X_train[i],cmap = \"gray\")\n",
    "print(\"RGB scaled\")\n",
    "plt.show()"
   ]
  },
  {
   "cell_type": "code",
   "execution_count": 12,
   "id": "b54ade58",
   "metadata": {},
   "outputs": [],
   "source": [
    "# We can use skimage directly to convert rgb to grey\n",
    "# when using color.rgb2grey ---> skimage automatically normalize to scale 0 to 1.\n",
    "\n",
    "# from skimage import color\n",
    "# X_train = color.rgb2grey(X_train)\n",
    "# plt.imshow(X_train[999],cmap = \"gray\")\n",
    "# X_train.shape"
   ]
  },
  {
   "cell_type": "markdown",
   "id": "81042562",
   "metadata": {},
   "source": [
    "----------"
   ]
  },
  {
   "cell_type": "code",
   "execution_count": 13,
   "id": "b0f0cc86",
   "metadata": {},
   "outputs": [],
   "source": [
    "from tensorflow.keras.models import Sequential\n",
    "from tensorflow.keras.layers import Dense,Flatten,Conv2D,AvgPool2D"
   ]
  },
  {
   "cell_type": "code",
   "execution_count": 14,
   "id": "2178c4df",
   "metadata": {},
   "outputs": [
    {
     "data": {
      "text/plain": [
       "(32, 32, 1)"
      ]
     },
     "execution_count": 14,
     "metadata": {},
     "output_type": "execute_result"
    }
   ],
   "source": [
    "X_train_norm[90].shape"
   ]
  },
  {
   "cell_type": "code",
   "execution_count": 15,
   "id": "8375356e",
   "metadata": {},
   "outputs": [],
   "source": [
    "model = Sequential(name= \"LENET\")\n",
    "\n",
    "model.add(Conv2D(filters = 6,kernel_size=(5,5),activation= \"relu\", input_shape = (32,32,1)))\n",
    "model.add(AvgPool2D())\n",
    "\n",
    "model.add(Conv2D(filters = 16,kernel_size=(5,5),activation= \"relu\"))\n",
    "model.add(AvgPool2D())\n",
    "\n",
    "model.add(Flatten())\n",
    "model.add(Dense(120,activation= \"relu\"))\n",
    "model.add(Dense(84,activation= \"relu\"))\n",
    "model.add(Dense(64,activation= \"relu\"))\n",
    "model.add(Dense(43,activation= \"softmax\"))"
   ]
  },
  {
   "cell_type": "code",
   "execution_count": 16,
   "id": "f873a54b",
   "metadata": {},
   "outputs": [
    {
     "name": "stdout",
     "output_type": "stream",
     "text": [
      "Model: \"LENET\"\n",
      "_________________________________________________________________\n",
      " Layer (type)                Output Shape              Param #   \n",
      "=================================================================\n",
      " conv2d (Conv2D)             (None, 28, 28, 6)         156       \n",
      "                                                                 \n",
      " average_pooling2d (AverageP  (None, 14, 14, 6)        0         \n",
      " ooling2D)                                                       \n",
      "                                                                 \n",
      " conv2d_1 (Conv2D)           (None, 10, 10, 16)        2416      \n",
      "                                                                 \n",
      " average_pooling2d_1 (Averag  (None, 5, 5, 16)         0         \n",
      " ePooling2D)                                                     \n",
      "                                                                 \n",
      " flatten (Flatten)           (None, 400)               0         \n",
      "                                                                 \n",
      " dense (Dense)               (None, 120)               48120     \n",
      "                                                                 \n",
      " dense_1 (Dense)             (None, 84)                10164     \n",
      "                                                                 \n",
      " dense_2 (Dense)             (None, 64)                5440      \n",
      "                                                                 \n",
      " dense_3 (Dense)             (None, 43)                2795      \n",
      "                                                                 \n",
      "=================================================================\n",
      "Total params: 69,091\n",
      "Trainable params: 69,091\n",
      "Non-trainable params: 0\n",
      "_________________________________________________________________\n"
     ]
    }
   ],
   "source": [
    "model.summary()"
   ]
  },
  {
   "cell_type": "code",
   "execution_count": 17,
   "id": "fa939482",
   "metadata": {},
   "outputs": [],
   "source": [
    "model.compile(optimizer=\"adam\",loss = \"SparseCategoricalCrossentropy\", metrics= [\"accuracy\"])"
   ]
  },
  {
   "cell_type": "code",
   "execution_count": 18,
   "id": "bee71316",
   "metadata": {
    "scrolled": true
   },
   "outputs": [
    {
     "name": "stdout",
     "output_type": "stream",
     "text": [
      "Epoch 1/20\n",
      "544/544 [==============================] - 9s 15ms/step - loss: 1.6668 - accuracy: 0.5387 - val_loss: 0.7671 - val_accuracy: 0.7685\n",
      "Epoch 2/20\n",
      "544/544 [==============================] - 8s 15ms/step - loss: 0.4702 - accuracy: 0.8624 - val_loss: 0.5439 - val_accuracy: 0.8351\n",
      "Epoch 3/20\n",
      "544/544 [==============================] - 8s 14ms/step - loss: 0.2855 - accuracy: 0.9182 - val_loss: 0.4433 - val_accuracy: 0.8764\n",
      "Epoch 4/20\n",
      "544/544 [==============================] - 8s 15ms/step - loss: 0.2001 - accuracy: 0.9442 - val_loss: 0.3872 - val_accuracy: 0.8853\n",
      "Epoch 5/20\n",
      "544/544 [==============================] - 8s 15ms/step - loss: 0.1517 - accuracy: 0.9581 - val_loss: 0.4391 - val_accuracy: 0.8798\n",
      "Epoch 6/20\n",
      "544/544 [==============================] - 8s 16ms/step - loss: 0.1150 - accuracy: 0.9681 - val_loss: 0.4594 - val_accuracy: 0.8705\n",
      "Epoch 7/20\n",
      "544/544 [==============================] - 9s 16ms/step - loss: 0.0950 - accuracy: 0.9724 - val_loss: 0.3644 - val_accuracy: 0.8984\n",
      "Epoch 8/20\n",
      "544/544 [==============================] - 8s 16ms/step - loss: 0.0717 - accuracy: 0.9801 - val_loss: 0.3456 - val_accuracy: 0.9088\n",
      "Epoch 9/20\n",
      "544/544 [==============================] - 9s 16ms/step - loss: 0.0606 - accuracy: 0.9816 - val_loss: 0.3968 - val_accuracy: 0.9011\n",
      "Epoch 10/20\n",
      "544/544 [==============================] - 9s 16ms/step - loss: 0.0515 - accuracy: 0.9849 - val_loss: 0.3833 - val_accuracy: 0.9091\n",
      "Epoch 11/20\n",
      "544/544 [==============================] - 9s 16ms/step - loss: 0.0456 - accuracy: 0.9859 - val_loss: 0.5017 - val_accuracy: 0.8859\n",
      "Epoch 12/20\n",
      "544/544 [==============================] - 9s 16ms/step - loss: 0.0440 - accuracy: 0.9866 - val_loss: 0.4509 - val_accuracy: 0.9043\n",
      "Epoch 13/20\n",
      "544/544 [==============================] - 9s 16ms/step - loss: 0.0358 - accuracy: 0.9892 - val_loss: 0.4154 - val_accuracy: 0.9057\n",
      "Epoch 14/20\n",
      "544/544 [==============================] - 8s 15ms/step - loss: 0.0367 - accuracy: 0.9883 - val_loss: 0.5012 - val_accuracy: 0.9045\n",
      "Epoch 15/20\n",
      "544/544 [==============================] - 8s 15ms/step - loss: 0.0288 - accuracy: 0.9914 - val_loss: 0.5699 - val_accuracy: 0.8930\n",
      "Epoch 16/20\n",
      "544/544 [==============================] - 8s 15ms/step - loss: 0.0261 - accuracy: 0.9916 - val_loss: 0.4956 - val_accuracy: 0.9107\n",
      "Epoch 17/20\n",
      "544/544 [==============================] - 9s 16ms/step - loss: 0.0288 - accuracy: 0.9907 - val_loss: 0.4396 - val_accuracy: 0.9122\n",
      "Epoch 18/20\n",
      "544/544 [==============================] - 8s 15ms/step - loss: 0.0209 - accuracy: 0.9935 - val_loss: 0.3940 - val_accuracy: 0.9268\n",
      "Epoch 19/20\n",
      "544/544 [==============================] - 8s 15ms/step - loss: 0.0211 - accuracy: 0.9934 - val_loss: 0.5418 - val_accuracy: 0.9088\n",
      "Epoch 20/20\n",
      "544/544 [==============================] - 8s 15ms/step - loss: 0.0221 - accuracy: 0.9934 - val_loss: 0.4273 - val_accuracy: 0.9247\n"
     ]
    },
    {
     "data": {
      "text/plain": [
       "<keras.callbacks.History at 0x1c72623fbb0>"
      ]
     },
     "execution_count": 18,
     "metadata": {},
     "output_type": "execute_result"
    }
   ],
   "source": [
    "model.fit(x = X_train_norm, y = y_train, \n",
    "          validation_data= (X_valid_norm,y_valid), epochs = 20, batch_size = 64)"
   ]
  },
  {
   "cell_type": "code",
   "execution_count": 19,
   "id": "b5ddb8ca",
   "metadata": {},
   "outputs": [
    {
     "name": "stdout",
     "output_type": "stream",
     "text": [
      "395/395 [==============================] - 2s 6ms/step - loss: 0.9376 - accuracy: 0.8967\n"
     ]
    }
   ],
   "source": [
    "results = model.evaluate(X_test_norm,y_test)"
   ]
  },
  {
   "cell_type": "code",
   "execution_count": 23,
   "id": "376ba555",
   "metadata": {},
   "outputs": [
    {
     "name": "stdout",
     "output_type": "stream",
     "text": [
      " Test loss = 0.9375581741333008 and Test accuracy = 0.8966745734214783\n"
     ]
    }
   ],
   "source": [
    "print(f\" Test loss = {results[0]} and Test accuracy = {results[1]}\")"
   ]
  }
 ],
 "metadata": {
  "kernelspec": {
   "display_name": "Python 3 (ipykernel)",
   "language": "python",
   "name": "python3"
  },
  "language_info": {
   "codemirror_mode": {
    "name": "ipython",
    "version": 3
   },
   "file_extension": ".py",
   "mimetype": "text/x-python",
   "name": "python",
   "nbconvert_exporter": "python",
   "pygments_lexer": "ipython3",
   "version": "3.9.7"
  }
 },
 "nbformat": 4,
 "nbformat_minor": 5
}
