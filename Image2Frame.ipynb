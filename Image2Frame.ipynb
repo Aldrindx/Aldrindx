{
 "cells": [
  {
   "cell_type": "code",
   "execution_count": 16,
   "id": "6b0fb32c",
   "metadata": {},
   "outputs": [],
   "source": [
    "import cv2\n",
    "import os\n",
    "from glob import glob"
   ]
  },
  {
   "cell_type": "code",
   "execution_count": 33,
   "id": "caa94d4b",
   "metadata": {},
   "outputs": [],
   "source": [
    "file_names = glob(\"C://Users//aldrinds//Desktop//practiceee//rohit//\" + \"*.avi\")\n",
    "#file_names"
   ]
  },
  {
   "cell_type": "code",
   "execution_count": 3,
   "id": "a28cc51b",
   "metadata": {},
   "outputs": [],
   "source": [
    "path = r\"C:\\Users\\aldrinds\\Desktop\\practiceee\\Image/\""
   ]
  },
  {
   "cell_type": "code",
   "execution_count": 31,
   "id": "a8f012a1",
   "metadata": {},
   "outputs": [],
   "source": [
    "def getFrame(videoFileName, sec, filename):\n",
    "    vidcap = cv2.VideoCapture(videoFileName)\n",
    "    vidcap.set(cv2.CAP_PROP_POS_MSEC, sec*1000)\n",
    "    hasFrames,image = vidcap.read()\n",
    "    if hasFrames:\n",
    "        cv2.imwrite(path+filename+\"image\" + str(count) + \".jpg\", image)     \n",
    "    return hasFrames"
   ]
  },
  {
   "cell_type": "code",
   "execution_count": 32,
   "id": "67295c82",
   "metadata": {},
   "outputs": [],
   "source": [
    "for file in file_names:\n",
    "    sec = 0\n",
    "    frameRate = 0.5    \n",
    "    count=1\n",
    "    vfilename = file.split('/')[-1].split('\\\\')[-1]\n",
    "\n",
    "    success = getFrame(file, sec,vfilename)\n",
    "    while success:\n",
    "        count = count + 1\n",
    "        sec = sec + frameRate\n",
    "        sec = round(sec, 2)\n",
    "        success = getFrame(file,sec,vfilename)"
   ]
  },
  {
   "cell_type": "markdown",
   "id": "3c4c62f7",
   "metadata": {},
   "source": [
    "--------------------------------"
   ]
  },
  {
   "cell_type": "code",
   "execution_count": null,
   "id": "6b282e50",
   "metadata": {},
   "outputs": [],
   "source": []
  },
  {
   "cell_type": "code",
   "execution_count": null,
   "id": "85b331aa",
   "metadata": {},
   "outputs": [],
   "source": []
  },
  {
   "cell_type": "code",
   "execution_count": null,
   "id": "f0c4b19a",
   "metadata": {},
   "outputs": [],
   "source": []
  },
  {
   "cell_type": "code",
   "execution_count": null,
   "id": "de3788de",
   "metadata": {},
   "outputs": [],
   "source": []
  }
 ],
 "metadata": {
  "kernelspec": {
   "display_name": "Python 3 (ipykernel)",
   "language": "python",
   "name": "python3"
  },
  "language_info": {
   "codemirror_mode": {
    "name": "ipython",
    "version": 3
   },
   "file_extension": ".py",
   "mimetype": "text/x-python",
   "name": "python",
   "nbconvert_exporter": "python",
   "pygments_lexer": "ipython3",
   "version": "3.7.13"
  }
 },
 "nbformat": 4,
 "nbformat_minor": 5
}
