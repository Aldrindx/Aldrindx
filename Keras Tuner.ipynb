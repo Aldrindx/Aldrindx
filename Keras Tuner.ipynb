{
 "cells": [
  {
   "cell_type": "code",
   "execution_count": 3,
   "id": "b89288a6",
   "metadata": {},
   "outputs": [],
   "source": [
    "import numpy as np\n",
    "import pandas as pd\n",
    "import matplotlib.pyplot as plt\n",
    "import os\n",
    "import tensorflow as tf\n",
    "import keras_tuner as kt"
   ]
  },
  {
   "cell_type": "markdown",
   "id": "1bffb548",
   "metadata": {},
   "source": [
    "<u> hyperparameter are of two types<u>:-\n",
    "    \n",
    "- 1) Model hyperparameter:- number of width of hidden layers    \n",
    "- 2) algorithm hyperparameter:- learning rate for Stochastic Gradient Descent (SGD) and the number of nearest neighbors for a k Nearest Neighbors (KNN) classifier"
   ]
  },
  {
   "cell_type": "code",
   "execution_count": 5,
   "id": "fd4815a2",
   "metadata": {},
   "outputs": [],
   "source": [
    "(img_train, label_train), (img_test, label_test) = tf.keras.datasets.fashion_mnist.load_data()"
   ]
  },
  {
   "cell_type": "code",
   "execution_count": 10,
   "id": "99ec82b5",
   "metadata": {},
   "outputs": [],
   "source": [
    "img_train = img_train/255\n",
    "img_test = img_test/255"
   ]
  },
  {
   "cell_type": "code",
   "execution_count": 15,
   "id": "487ed1e3",
   "metadata": {},
   "outputs": [
    {
     "data": {
      "text/plain": [
       "(28, 28)"
      ]
     },
     "execution_count": 15,
     "metadata": {},
     "output_type": "execute_result"
    }
   ],
   "source": [
    "img_train[0].shape"
   ]
  },
  {
   "cell_type": "code",
   "execution_count": 32,
   "id": "c301f5ca",
   "metadata": {},
   "outputs": [],
   "source": [
    "from tensorflow.keras.models import Sequential\n",
    "from tensorflow.keras.layers import Dense,Flatten\n",
    "from tensorflow.keras.callbacks import EarlyStopping\n",
    "from tensorflow.keras.optimizers import Adam"
   ]
  },
  {
   "cell_type": "code",
   "execution_count": 33,
   "id": "f5f52275",
   "metadata": {},
   "outputs": [],
   "source": [
    "def model_builder(hp):\n",
    "\n",
    "    model = Sequential()\n",
    "    model.add(Flatten(input_shape = (28,28)))\n",
    "\n",
    "    # Tune the number of units in the first Dense layer\n",
    "    # Choose an optimal value between 32-512\n",
    "\n",
    "    hp_units = hp.Int('units', min_value=32, max_value=512, step=32)\n",
    "    model.add(Dense(units=hp_units, activation='relu'))\n",
    "    model.add(Dense(10,activation= \"softmax\"))\n",
    "\n",
    "    # Tune the learning rate for the optimizer\n",
    "    # Choose an optimal value from 0.01, 0.001, or 0.0001\n",
    "\n",
    "    hp_learning_rate = hp.Choice('learning_rate', values=[1e-2, 1e-3, 1e-4])\n",
    "\n",
    "    model.compile(Adam(learning_rate=hp_learning_rate),\n",
    "                    loss= \"SparseCategoricalCrossentropy\",\n",
    "                    metrics=['accuracy'])\n",
    "\n",
    "    return model"
   ]
  },
  {
   "cell_type": "code",
   "execution_count": 34,
   "id": "bd3f068e",
   "metadata": {},
   "outputs": [],
   "source": [
    "tuner = kt.Hyperband(model_builder,\n",
    "                     objective='val_accuracy',\n",
    "                     max_epochs=10,\n",
    "                     factor=3,\n",
    "                     directory='my_dir',\n",
    "                     project_name='intro_to_kt')"
   ]
  },
  {
   "cell_type": "code",
   "execution_count": 38,
   "id": "2243ec8e",
   "metadata": {},
   "outputs": [],
   "source": [
    "stop_early = EarlyStopping(monitor='val_loss', patience=5)"
   ]
  },
  {
   "cell_type": "code",
   "execution_count": 39,
   "id": "382f00d9",
   "metadata": {},
   "outputs": [
    {
     "name": "stdout",
     "output_type": "stream",
     "text": [
      "Trial 42 Complete [00h 00m 36s]\n",
      "val_accuracy: 0.8884166479110718\n",
      "\n",
      "Best val_accuracy So Far: 0.8926666378974915\n",
      "Total elapsed time: 00h 30m 51s\n",
      "INFO:tensorflow:Oracle triggered exit\n"
     ]
    }
   ],
   "source": [
    "tuner.search(img_train, label_train, epochs=50, validation_split=0.2, callbacks=[stop_early])"
   ]
  },
  {
   "cell_type": "code",
   "execution_count": 37,
   "id": "e8ff168d",
   "metadata": {},
   "outputs": [
    {
     "name": "stdout",
     "output_type": "stream",
     "text": [
      "\n",
      "The hyperparameter search is complete. The optimal number of units in the first densely-connected\n",
      "layer is 480 and the optimal learning rate for the optimizer\n",
      "is 0.001.\n",
      "\n"
     ]
    }
   ],
   "source": [
    "# Get the optimal hyperparameters\n",
    "best_hps=tuner.get_best_hyperparameters(num_trials=1)[0]\n",
    "\n",
    "print(f\"\"\"\n",
    "The hyperparameter search is complete. The optimal number of units in the first densely-connected\n",
    "layer is {best_hps.get('units')} and the optimal learning rate for the optimizer\n",
    "is {best_hps.get('learning_rate')}.\n",
    "\"\"\")"
   ]
  },
  {
   "cell_type": "code",
   "execution_count": 40,
   "id": "1bc7c890",
   "metadata": {},
   "outputs": [
    {
     "name": "stdout",
     "output_type": "stream",
     "text": [
      "Epoch 1/50\n",
      "1500/1500 [==============================] - 7s 5ms/step - loss: 0.4897 - accuracy: 0.8273 - val_loss: 0.3930 - val_accuracy: 0.8594\n",
      "Epoch 2/50\n",
      "1500/1500 [==============================] - 6s 4ms/step - loss: 0.3688 - accuracy: 0.8657 - val_loss: 0.3486 - val_accuracy: 0.8775\n",
      "Epoch 3/50\n",
      "1500/1500 [==============================] - 7s 4ms/step - loss: 0.3305 - accuracy: 0.8796 - val_loss: 0.3428 - val_accuracy: 0.8748\n",
      "Epoch 4/50\n",
      "1500/1500 [==============================] - 6s 4ms/step - loss: 0.3051 - accuracy: 0.8877 - val_loss: 0.3369 - val_accuracy: 0.8788\n",
      "Epoch 5/50\n",
      "1500/1500 [==============================] - 6s 4ms/step - loss: 0.2849 - accuracy: 0.8947 - val_loss: 0.3421 - val_accuracy: 0.8776\n",
      "Epoch 6/50\n",
      "1500/1500 [==============================] - 6s 4ms/step - loss: 0.2702 - accuracy: 0.8987 - val_loss: 0.3185 - val_accuracy: 0.8881\n",
      "Epoch 7/50\n",
      "1500/1500 [==============================] - 6s 4ms/step - loss: 0.2556 - accuracy: 0.9044 - val_loss: 0.3184 - val_accuracy: 0.8860\n",
      "Epoch 8/50\n",
      "1500/1500 [==============================] - 6s 4ms/step - loss: 0.2442 - accuracy: 0.9089 - val_loss: 0.3765 - val_accuracy: 0.8725\n",
      "Epoch 9/50\n",
      "1500/1500 [==============================] - 6s 4ms/step - loss: 0.2334 - accuracy: 0.9124 - val_loss: 0.3162 - val_accuracy: 0.8886\n",
      "Epoch 10/50\n",
      "1500/1500 [==============================] - 6s 4ms/step - loss: 0.2237 - accuracy: 0.9159 - val_loss: 0.3194 - val_accuracy: 0.8895\n",
      "Epoch 11/50\n",
      "1500/1500 [==============================] - 6s 4ms/step - loss: 0.2144 - accuracy: 0.9196 - val_loss: 0.3189 - val_accuracy: 0.8910\n",
      "Epoch 12/50\n",
      "1500/1500 [==============================] - 6s 4ms/step - loss: 0.2046 - accuracy: 0.9235 - val_loss: 0.3185 - val_accuracy: 0.8896\n",
      "Epoch 13/50\n",
      "1500/1500 [==============================] - 6s 4ms/step - loss: 0.1971 - accuracy: 0.9254 - val_loss: 0.3145 - val_accuracy: 0.8922\n",
      "Epoch 14/50\n",
      "1500/1500 [==============================] - 6s 4ms/step - loss: 0.1914 - accuracy: 0.9300 - val_loss: 0.3282 - val_accuracy: 0.8936\n",
      "Epoch 15/50\n",
      "1500/1500 [==============================] - 6s 4ms/step - loss: 0.1838 - accuracy: 0.9316 - val_loss: 0.3244 - val_accuracy: 0.8942\n",
      "Epoch 16/50\n",
      "1500/1500 [==============================] - 6s 4ms/step - loss: 0.1763 - accuracy: 0.9340 - val_loss: 0.3645 - val_accuracy: 0.8875\n",
      "Epoch 17/50\n",
      "1500/1500 [==============================] - 6s 4ms/step - loss: 0.1709 - accuracy: 0.9361 - val_loss: 0.3595 - val_accuracy: 0.8923\n",
      "Epoch 18/50\n",
      "1500/1500 [==============================] - 6s 4ms/step - loss: 0.1658 - accuracy: 0.9378 - val_loss: 0.3387 - val_accuracy: 0.8942\n",
      "Epoch 19/50\n",
      "1500/1500 [==============================] - 6s 4ms/step - loss: 0.1609 - accuracy: 0.9390 - val_loss: 0.3378 - val_accuracy: 0.8932\n",
      "Epoch 20/50\n",
      "1500/1500 [==============================] - 6s 4ms/step - loss: 0.1561 - accuracy: 0.9415 - val_loss: 0.3478 - val_accuracy: 0.8932\n",
      "Epoch 21/50\n",
      "1500/1500 [==============================] - 6s 4ms/step - loss: 0.1486 - accuracy: 0.9444 - val_loss: 0.3574 - val_accuracy: 0.8929\n",
      "Epoch 22/50\n",
      "1500/1500 [==============================] - 6s 4ms/step - loss: 0.1463 - accuracy: 0.9446 - val_loss: 0.3597 - val_accuracy: 0.8922\n",
      "Epoch 23/50\n",
      "1500/1500 [==============================] - 6s 4ms/step - loss: 0.1418 - accuracy: 0.9457 - val_loss: 0.3727 - val_accuracy: 0.8922\n",
      "Epoch 24/50\n",
      "1500/1500 [==============================] - 6s 4ms/step - loss: 0.1392 - accuracy: 0.9485 - val_loss: 0.3851 - val_accuracy: 0.8860\n",
      "Epoch 25/50\n",
      "1500/1500 [==============================] - 6s 4ms/step - loss: 0.1363 - accuracy: 0.9490 - val_loss: 0.3665 - val_accuracy: 0.8956\n",
      "Epoch 26/50\n",
      "1500/1500 [==============================] - 7s 4ms/step - loss: 0.1274 - accuracy: 0.9523 - val_loss: 0.3958 - val_accuracy: 0.8954\n",
      "Epoch 27/50\n",
      "1500/1500 [==============================] - 6s 4ms/step - loss: 0.1253 - accuracy: 0.9528 - val_loss: 0.4355 - val_accuracy: 0.8852\n",
      "Epoch 28/50\n",
      "1500/1500 [==============================] - 6s 4ms/step - loss: 0.1228 - accuracy: 0.9535 - val_loss: 0.3965 - val_accuracy: 0.8924\n",
      "Epoch 29/50\n",
      "1500/1500 [==============================] - 6s 4ms/step - loss: 0.1227 - accuracy: 0.9539 - val_loss: 0.3900 - val_accuracy: 0.8963\n",
      "Epoch 30/50\n",
      "1500/1500 [==============================] - 6s 4ms/step - loss: 0.1155 - accuracy: 0.9560 - val_loss: 0.4009 - val_accuracy: 0.8907\n",
      "Epoch 31/50\n",
      "1500/1500 [==============================] - 6s 4ms/step - loss: 0.1143 - accuracy: 0.9563 - val_loss: 0.4037 - val_accuracy: 0.8918\n",
      "Epoch 32/50\n",
      "1500/1500 [==============================] - 6s 4ms/step - loss: 0.1087 - accuracy: 0.9589 - val_loss: 0.4104 - val_accuracy: 0.8930\n",
      "Epoch 33/50\n",
      "1500/1500 [==============================] - 7s 4ms/step - loss: 0.1095 - accuracy: 0.9578 - val_loss: 0.4274 - val_accuracy: 0.8920\n",
      "Epoch 34/50\n",
      "1500/1500 [==============================] - 6s 4ms/step - loss: 0.1068 - accuracy: 0.9600 - val_loss: 0.4221 - val_accuracy: 0.8920\n",
      "Epoch 35/50\n",
      "1500/1500 [==============================] - 6s 4ms/step - loss: 0.1036 - accuracy: 0.9606 - val_loss: 0.4506 - val_accuracy: 0.8951\n",
      "Epoch 36/50\n",
      "1500/1500 [==============================] - 6s 4ms/step - loss: 0.0981 - accuracy: 0.9631 - val_loss: 0.4278 - val_accuracy: 0.8981\n",
      "Epoch 37/50\n",
      "1500/1500 [==============================] - 6s 4ms/step - loss: 0.0966 - accuracy: 0.9645 - val_loss: 0.4715 - val_accuracy: 0.8913\n",
      "Epoch 38/50\n",
      "1500/1500 [==============================] - 6s 4ms/step - loss: 0.0984 - accuracy: 0.9626 - val_loss: 0.4883 - val_accuracy: 0.8898\n",
      "Epoch 39/50\n",
      "1500/1500 [==============================] - 6s 4ms/step - loss: 0.0900 - accuracy: 0.9661 - val_loss: 0.4872 - val_accuracy: 0.8899\n",
      "Epoch 40/50\n",
      "1500/1500 [==============================] - 6s 4ms/step - loss: 0.0930 - accuracy: 0.9660 - val_loss: 0.4989 - val_accuracy: 0.8878\n",
      "Epoch 41/50\n",
      "1500/1500 [==============================] - 6s 4ms/step - loss: 0.0880 - accuracy: 0.9671 - val_loss: 0.5065 - val_accuracy: 0.8932\n",
      "Epoch 42/50\n",
      "1500/1500 [==============================] - 6s 4ms/step - loss: 0.0939 - accuracy: 0.9646 - val_loss: 0.4877 - val_accuracy: 0.8906\n",
      "Epoch 43/50\n",
      "1500/1500 [==============================] - 6s 4ms/step - loss: 0.0855 - accuracy: 0.9676 - val_loss: 0.5078 - val_accuracy: 0.8944\n",
      "Epoch 44/50\n",
      "1500/1500 [==============================] - 6s 4ms/step - loss: 0.0853 - accuracy: 0.9685 - val_loss: 0.5113 - val_accuracy: 0.8901\n",
      "Epoch 45/50\n",
      "1500/1500 [==============================] - 6s 4ms/step - loss: 0.0815 - accuracy: 0.9690 - val_loss: 0.5462 - val_accuracy: 0.8848\n",
      "Epoch 46/50\n",
      "1500/1500 [==============================] - 6s 4ms/step - loss: 0.0835 - accuracy: 0.9691 - val_loss: 0.5228 - val_accuracy: 0.8946\n",
      "Epoch 47/50\n",
      "1500/1500 [==============================] - 6s 4ms/step - loss: 0.0787 - accuracy: 0.9709 - val_loss: 0.5214 - val_accuracy: 0.8905\n",
      "Epoch 48/50\n",
      "1500/1500 [==============================] - 6s 4ms/step - loss: 0.0768 - accuracy: 0.9721 - val_loss: 0.5882 - val_accuracy: 0.8854\n",
      "Epoch 49/50\n",
      "1500/1500 [==============================] - 6s 4ms/step - loss: 0.0773 - accuracy: 0.9710 - val_loss: 0.5414 - val_accuracy: 0.8942\n",
      "Epoch 50/50\n",
      "1500/1500 [==============================] - 6s 4ms/step - loss: 0.0716 - accuracy: 0.9731 - val_loss: 0.5347 - val_accuracy: 0.8924\n",
      "Best epoch: 36\n"
     ]
    }
   ],
   "source": [
    "# Build the model with the optimal hyperparameters and train it on the data for 50 epochs\n",
    "model = tuner.hypermodel.build(best_hps)\n",
    "history = model.fit(img_train, label_train, epochs=50, validation_split=0.2)\n",
    "\n",
    "val_acc_per_epoch = history.history['val_accuracy']\n",
    "best_epoch = val_acc_per_epoch.index(max(val_acc_per_epoch)) + 1\n",
    "print('Best epoch: %d' % (best_epoch,))"
   ]
  },
  {
   "cell_type": "code",
   "execution_count": 41,
   "id": "05de67e1",
   "metadata": {},
   "outputs": [
    {
     "name": "stdout",
     "output_type": "stream",
     "text": [
      "Epoch 1/36\n",
      "1500/1500 [==============================] - 7s 4ms/step - loss: 0.4964 - accuracy: 0.8227 - val_loss: 0.3995 - val_accuracy: 0.8549\n",
      "Epoch 2/36\n",
      "1500/1500 [==============================] - 6s 4ms/step - loss: 0.3694 - accuracy: 0.8662 - val_loss: 0.3964 - val_accuracy: 0.8508\n",
      "Epoch 3/36\n",
      "1500/1500 [==============================] - 6s 4ms/step - loss: 0.3283 - accuracy: 0.8782 - val_loss: 0.3604 - val_accuracy: 0.8688\n",
      "Epoch 4/36\n",
      "1500/1500 [==============================] - 6s 4ms/step - loss: 0.3052 - accuracy: 0.8866 - val_loss: 0.3476 - val_accuracy: 0.8769\n",
      "Epoch 5/36\n",
      "1500/1500 [==============================] - 6s 4ms/step - loss: 0.2834 - accuracy: 0.8951 - val_loss: 0.3138 - val_accuracy: 0.8869\n",
      "Epoch 6/36\n",
      "1500/1500 [==============================] - 6s 4ms/step - loss: 0.2692 - accuracy: 0.8994 - val_loss: 0.3247 - val_accuracy: 0.8854\n",
      "Epoch 7/36\n",
      "1500/1500 [==============================] - 6s 4ms/step - loss: 0.2526 - accuracy: 0.9058 - val_loss: 0.3183 - val_accuracy: 0.8882\n",
      "Epoch 8/36\n",
      "1500/1500 [==============================] - 6s 4ms/step - loss: 0.2444 - accuracy: 0.9081 - val_loss: 0.3177 - val_accuracy: 0.8848\n",
      "Epoch 9/36\n",
      "1500/1500 [==============================] - 6s 4ms/step - loss: 0.2331 - accuracy: 0.9127 - val_loss: 0.3252 - val_accuracy: 0.8873\n",
      "Epoch 10/36\n",
      "1500/1500 [==============================] - 6s 4ms/step - loss: 0.2210 - accuracy: 0.9167 - val_loss: 0.3178 - val_accuracy: 0.8906\n",
      "Epoch 11/36\n",
      "1500/1500 [==============================] - 6s 4ms/step - loss: 0.2148 - accuracy: 0.9183 - val_loss: 0.3125 - val_accuracy: 0.8929\n",
      "Epoch 12/36\n",
      "1500/1500 [==============================] - 6s 4ms/step - loss: 0.2051 - accuracy: 0.9234 - val_loss: 0.3145 - val_accuracy: 0.8963\n",
      "Epoch 13/36\n",
      "1500/1500 [==============================] - 6s 4ms/step - loss: 0.1988 - accuracy: 0.9249 - val_loss: 0.3324 - val_accuracy: 0.8905\n",
      "Epoch 14/36\n",
      "1500/1500 [==============================] - 6s 4ms/step - loss: 0.1899 - accuracy: 0.9295 - val_loss: 0.3696 - val_accuracy: 0.8824\n",
      "Epoch 15/36\n",
      "1500/1500 [==============================] - 7s 4ms/step - loss: 0.1844 - accuracy: 0.9312 - val_loss: 0.3508 - val_accuracy: 0.8860\n",
      "Epoch 16/36\n",
      "1500/1500 [==============================] - 6s 4ms/step - loss: 0.1768 - accuracy: 0.9336 - val_loss: 0.3540 - val_accuracy: 0.8846\n",
      "Epoch 17/36\n",
      "1500/1500 [==============================] - 6s 4ms/step - loss: 0.1706 - accuracy: 0.9351 - val_loss: 0.3464 - val_accuracy: 0.8929\n",
      "Epoch 18/36\n",
      "1500/1500 [==============================] - 6s 4ms/step - loss: 0.1645 - accuracy: 0.9384 - val_loss: 0.3511 - val_accuracy: 0.8896\n",
      "Epoch 19/36\n",
      "1500/1500 [==============================] - 6s 4ms/step - loss: 0.1574 - accuracy: 0.9409 - val_loss: 0.3511 - val_accuracy: 0.8931\n",
      "Epoch 20/36\n",
      "1500/1500 [==============================] - 6s 4ms/step - loss: 0.1548 - accuracy: 0.9417 - val_loss: 0.3507 - val_accuracy: 0.8979\n",
      "Epoch 21/36\n",
      "1500/1500 [==============================] - 6s 4ms/step - loss: 0.1493 - accuracy: 0.9436 - val_loss: 0.3428 - val_accuracy: 0.8981\n",
      "Epoch 22/36\n",
      "1500/1500 [==============================] - 6s 4ms/step - loss: 0.1468 - accuracy: 0.9446 - val_loss: 0.3974 - val_accuracy: 0.8868\n",
      "Epoch 23/36\n",
      "1500/1500 [==============================] - 6s 4ms/step - loss: 0.1405 - accuracy: 0.9476 - val_loss: 0.3713 - val_accuracy: 0.8928\n",
      "Epoch 24/36\n",
      "1500/1500 [==============================] - 6s 4ms/step - loss: 0.1364 - accuracy: 0.9487 - val_loss: 0.3651 - val_accuracy: 0.8969\n",
      "Epoch 25/36\n",
      "1500/1500 [==============================] - 6s 4ms/step - loss: 0.1325 - accuracy: 0.9496 - val_loss: 0.3702 - val_accuracy: 0.8922\n",
      "Epoch 26/36\n",
      "1500/1500 [==============================] - 6s 4ms/step - loss: 0.1312 - accuracy: 0.9504 - val_loss: 0.4088 - val_accuracy: 0.8923\n",
      "Epoch 27/36\n",
      "1500/1500 [==============================] - 6s 4ms/step - loss: 0.1231 - accuracy: 0.9536 - val_loss: 0.4125 - val_accuracy: 0.8878\n",
      "Epoch 28/36\n",
      "1500/1500 [==============================] - 6s 4ms/step - loss: 0.1192 - accuracy: 0.9548 - val_loss: 0.3899 - val_accuracy: 0.8946\n",
      "Epoch 29/36\n",
      "1500/1500 [==============================] - 6s 4ms/step - loss: 0.1184 - accuracy: 0.9547 - val_loss: 0.4313 - val_accuracy: 0.8923\n",
      "Epoch 30/36\n",
      "1500/1500 [==============================] - 6s 4ms/step - loss: 0.1162 - accuracy: 0.9567 - val_loss: 0.4080 - val_accuracy: 0.8963\n",
      "Epoch 31/36\n",
      "1500/1500 [==============================] - 6s 4ms/step - loss: 0.1151 - accuracy: 0.9573 - val_loss: 0.3881 - val_accuracy: 0.8974\n",
      "Epoch 32/36\n",
      "1500/1500 [==============================] - 6s 4ms/step - loss: 0.1067 - accuracy: 0.9599 - val_loss: 0.4083 - val_accuracy: 0.8968\n",
      "Epoch 33/36\n",
      "1500/1500 [==============================] - 6s 4ms/step - loss: 0.1090 - accuracy: 0.9594 - val_loss: 0.4599 - val_accuracy: 0.8922\n",
      "Epoch 34/36\n",
      "1500/1500 [==============================] - 6s 4ms/step - loss: 0.1039 - accuracy: 0.9612 - val_loss: 0.4122 - val_accuracy: 0.8961\n",
      "Epoch 35/36\n",
      "1500/1500 [==============================] - 6s 4ms/step - loss: 0.1005 - accuracy: 0.9612 - val_loss: 0.4267 - val_accuracy: 0.8966\n",
      "Epoch 36/36\n",
      "1500/1500 [==============================] - 7s 4ms/step - loss: 0.1011 - accuracy: 0.9618 - val_loss: 0.4396 - val_accuracy: 0.8945\n"
     ]
    },
    {
     "data": {
      "text/plain": [
       "<keras.callbacks.History at 0x217802f1100>"
      ]
     },
     "execution_count": 41,
     "metadata": {},
     "output_type": "execute_result"
    }
   ],
   "source": [
    "hypermodel = tuner.hypermodel.build(best_hps)\n",
    "\n",
    "# Retrain the model\n",
    "hypermodel.fit(img_train, label_train, epochs=best_epoch, validation_split=0.2)"
   ]
  },
  {
   "cell_type": "code",
   "execution_count": 42,
   "id": "5068d25e",
   "metadata": {},
   "outputs": [
    {
     "name": "stdout",
     "output_type": "stream",
     "text": [
      "313/313 [==============================] - 1s 3ms/step - loss: 0.4959 - accuracy: 0.8894\n",
      "[test loss, test accuracy]: [0.49594905972480774, 0.8894000053405762]\n"
     ]
    }
   ],
   "source": [
    "eval_result = hypermodel.evaluate(img_test, label_test)\n",
    "print(\"[test loss, test accuracy]:\", eval_result)"
   ]
  },
  {
   "cell_type": "code",
   "execution_count": 43,
   "id": "c10d9dd5",
   "metadata": {},
   "outputs": [],
   "source": [
    "# official documentation ---> https://keras.io/keras_tuner/"
   ]
  },
  {
   "cell_type": "markdown",
   "id": "4aad8110",
   "metadata": {},
   "source": [
    "----------"
   ]
  }
 ],
 "metadata": {
  "kernelspec": {
   "display_name": "Python 3 (ipykernel)",
   "language": "python",
   "name": "python3"
  },
  "language_info": {
   "codemirror_mode": {
    "name": "ipython",
    "version": 3
   },
   "file_extension": ".py",
   "mimetype": "text/x-python",
   "name": "python",
   "nbconvert_exporter": "python",
   "pygments_lexer": "ipython3",
   "version": "3.9.7"
  }
 },
 "nbformat": 4,
 "nbformat_minor": 5
}
