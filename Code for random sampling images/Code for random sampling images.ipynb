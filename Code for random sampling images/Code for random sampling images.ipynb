{
 "cells": [
  {
   "cell_type": "code",
   "execution_count": null,
   "metadata": {},
   "outputs": [],
   "source": [
    "# -*- coding: utf-8 -*-\n",
    "\"\"\"\n",
    "@author: Aldrin Saldanha\n",
    "\n",
    "\"\"\"\n",
    "\n",
    "import os\n",
    "import shutil\n",
    "import random\n",
    "import pandas as pd"
   ]
  },
  {
   "cell_type": "code",
   "execution_count": null,
   "metadata": {},
   "outputs": [],
   "source": [
    "df = pd.DataFrame()\n",
    "\n",
    "w =0\n",
    "li=[]\n",
    "\n",
    "while w < 500:\n",
    "    w =w+1\n",
    "    apple = random.choice(os.listdir(r\"dataset/\"))  # apple is just a variable name\n",
    "    o = ''.join([\"dataset/\", apple])\n",
    "    shutil.move(o,\"move/\") #  first you have to create a folder name \"move\" in same directory.\n",
    "    li.append(apple)"
   ]
  }
 ],
 "metadata": {
  "kernelspec": {
   "display_name": "Python 3",
   "language": "python",
   "name": "python3"
  },
  "language_info": {
   "codemirror_mode": {
    "name": "ipython",
    "version": 3
   },
   "file_extension": ".py",
   "mimetype": "text/x-python",
   "name": "python",
   "nbconvert_exporter": "python",
   "pygments_lexer": "ipython3",
   "version": "3.7.6"
  }
 },
 "nbformat": 4,
 "nbformat_minor": 4
}
