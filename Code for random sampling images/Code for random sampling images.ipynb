{
 "cells": [
  {
   "cell_type": "code",
   "execution_count": 25,
   "id": "96a90c78",
   "metadata": {},
   "outputs": [],
   "source": [
    "import os\n",
    "import shutil\n",
    "import random\n",
    "import pandas as pd\n",
    "  \n",
    "df = pd.DataFrame()\n",
    "w =0\n",
    "li=[]\n",
    "while w < 500:\n",
    "    w =w+1\n",
    "    apple = random.choice(os.listdir(r\"dataset/\"))\n",
    "    o = ''.join([\"dataset/\", apple])\n",
    "    #print(apple)\n",
    "    shutil.move(o,\"new folder")\n # create a new folder", 
    "    li.append(apple)\n",
    "    \n",
    "    #print(list)\n",
    "df['images']=li\n",
    "df.to_csv(r'img.csv',index=False)"
   ]
  },
  {
   "cell_type": "code",
   "execution_count": null,
   "id": "42fc99db",
   "metadata": {},
   "outputs": [],
   "source": []
  },
  {
   "cell_type": "code",
   "execution_count": null,
   "id": "d7583d3e",
   "metadata": {},
   "outputs": [],
   "source": []
  }
 ],
 "metadata": {
  "kernelspec": {
   "display_name": "Python 3 (ipykernel)",
   "language": "python",
   "name": "python3"
  },
  "language_info": {
   "codemirror_mode": {
    "name": "ipython",
    "version": 3
   },
   "file_extension": ".py",
   "mimetype": "text/x-python",
   "name": "python",
   "nbconvert_exporter": "python",
   "pygments_lexer": "ipython3",
   "version": "3.9.7"
  }
 },
 "nbformat": 4,
 "nbformat_minor": 5
}
