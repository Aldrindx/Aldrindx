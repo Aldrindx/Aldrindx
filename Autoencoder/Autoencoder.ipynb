{
 "cells": [
  {
   "cell_type": "code",
   "execution_count": 1,
   "id": "488c9036",
   "metadata": {},
   "outputs": [],
   "source": [
    "import pandas as pd\n",
    "import numpy as np\n",
    "import matplotlib.pyplot as plt"
   ]
  },
  {
   "cell_type": "code",
   "execution_count": 2,
   "id": "92f70c0d",
   "metadata": {},
   "outputs": [],
   "source": [
    "from tensorflow.keras.datasets import mnist"
   ]
  },
  {
   "cell_type": "code",
   "execution_count": 3,
   "id": "8fa4c914",
   "metadata": {},
   "outputs": [],
   "source": [
    "(X_train, y_train), (X_test, y_test) = mnist.load_data()"
   ]
  },
  {
   "cell_type": "code",
   "execution_count": 4,
   "id": "ecc525f0",
   "metadata": {},
   "outputs": [
    {
     "data": {
      "image/png": "[encoded data removed]",
      "text/plain": [
       "<Figure size 432x288 with 1 Axes>"
      ]
     },
     "metadata": {
      "needs_background": "light"
     },
     "output_type": "display_data"
    }
   ],
   "source": [
    "plt.imshow(X_train[5]);"
   ]
  },
  {
   "cell_type": "code",
   "execution_count": 28,
   "id": "f9c8cca8",
   "metadata": {},
   "outputs": [
    {
     "data": {
      "image/png": "[encoded data removed]",
      "text/plain": [
       "<Figure size 432x288 with 1 Axes>"
      ]
     },
     "metadata": {
      "needs_background": "light"
     },
     "output_type": "display_data"
    }
   ],
   "source": [
    "plt.imshow(X_test[5]);"
   ]
  },
  {
   "cell_type": "markdown",
   "id": "429fc3e4",
   "metadata": {},
   "source": [
    "-----------"
   ]
  },
  {
   "cell_type": "code",
   "execution_count": 6,
   "id": "c6acdfa0",
   "metadata": {},
   "outputs": [],
   "source": [
    "X_train = X_train/255\n",
    "X_test = X_test/255"
   ]
  },
  {
   "cell_type": "code",
   "execution_count": 7,
   "id": "9b2660cb",
   "metadata": {},
   "outputs": [
    {
     "data": {
      "text/plain": [
       "(60000, 28, 28)"
      ]
     },
     "execution_count": 7,
     "metadata": {},
     "output_type": "execute_result"
    }
   ],
   "source": [
    "X_train.shape"
   ]
  },
  {
   "cell_type": "code",
   "execution_count": 8,
   "id": "10fca54b",
   "metadata": {},
   "outputs": [],
   "source": [
    "from tensorflow.keras.models import Sequential\n",
    "from tensorflow.keras.layers import Dense,Reshape,Flatten\n",
    "from tensorflow.keras.optimizers import SGD"
   ]
  },
  {
   "cell_type": "code",
   "execution_count": 9,
   "id": "4d755138",
   "metadata": {},
   "outputs": [
    {
     "data": {
      "text/plain": [
       "392.0"
      ]
     },
     "execution_count": 9,
     "metadata": {},
     "output_type": "execute_result"
    }
   ],
   "source": [
    "28 * 28/2"
   ]
  },
  {
   "cell_type": "code",
   "execution_count": 10,
   "id": "2dcf9932",
   "metadata": {},
   "outputs": [],
   "source": [
    "encoder = Sequential()\n",
    "encoder.add(Flatten(input_shape = [28,28]))\n",
    "encoder.add(Dense(400,activation= \"relu\"))\n",
    "encoder.add(Dense(200,activation= \"relu\"))\n",
    "encoder.add(Dense(100,activation= \"relu\"))\n",
    "encoder.add(Dense(50,activation= \"relu\"))\n",
    "encoder.add(Dense(25,activation= \"relu\"))"
   ]
  },
  {
   "cell_type": "code",
   "execution_count": 11,
   "id": "4d7a8b7a",
   "metadata": {},
   "outputs": [],
   "source": [
    "decoder = Sequential()\n",
    "decoder.add(Dense(50,activation= \"relu\",input_shape = [25]))\n",
    "decoder.add(Dense(100,activation= \"relu\"))\n",
    "decoder.add(Dense(200,activation= \"relu\"))\n",
    "decoder.add(Dense(400,activation= \"relu\"))\n",
    "decoder.add(Dense(28*28,activation= \"sigmoid\"))\n",
    "decoder.add(Reshape(target_shape =  [28,28]))"
   ]
  },
  {
   "cell_type": "code",
   "execution_count": 13,
   "id": "c8b2cff6",
   "metadata": {},
   "outputs": [],
   "source": [
    "autoencoder = Sequential([encoder,decoder])\n",
    "autoencoder.compile(loss = \"binary_crossentropy\",optimizer = \"adam\",metrics = \"accuracy\")"
   ]
  },
  {
   "cell_type": "code",
   "execution_count": 14,
   "id": "9f019ca1",
   "metadata": {},
   "outputs": [
    {
     "name": "stdout",
     "output_type": "stream",
     "text": [
      "Epoch 1/5\n",
      "1875/1875 [==============================] - 22s 11ms/step - loss: 0.1656 - accuracy: 0.1870 - val_loss: 0.1305 - val_accuracy: 0.2196\n",
      "Epoch 2/5\n",
      "1875/1875 [==============================] - 20s 11ms/step - loss: 0.1240 - accuracy: 0.2397 - val_loss: 0.1172 - val_accuracy: 0.2418\n",
      "Epoch 3/5\n",
      "1875/1875 [==============================] - 20s 10ms/step - loss: 0.1146 - accuracy: 0.2548 - val_loss: 0.1106 - val_accuracy: 0.2541\n",
      "Epoch 4/5\n",
      "1875/1875 [==============================] - 19s 10ms/step - loss: 0.1090 - accuracy: 0.2637 - val_loss: 0.1071 - val_accuracy: 0.2567\n",
      "Epoch 5/5\n",
      "1875/1875 [==============================] - 20s 10ms/step - loss: 0.1047 - accuracy: 0.2711 - val_loss: 0.1036 - val_accuracy: 0.2749\n"
     ]
    },
    {
     "data": {
      "text/plain": [
       "<keras.callbacks.History at 0x26d6f9cce20>"
      ]
     },
     "execution_count": 14,
     "metadata": {},
     "output_type": "execute_result"
    }
   ],
   "source": [
    "autoencoder.fit(X_train,X_train,epochs= 5, validation_data=(X_test,X_test))"
   ]
  },
  {
   "cell_type": "code",
   "execution_count": 15,
   "id": "020147a7",
   "metadata": {},
   "outputs": [
    {
     "name": "stdout",
     "output_type": "stream",
     "text": [
      "Model: \"sequential_2\"\n",
      "_________________________________________________________________\n",
      " Layer (type)                Output Shape              Param #   \n",
      "=================================================================\n",
      " sequential (Sequential)     (None, 25)                420625    \n",
      "                                                                 \n",
      " sequential_1 (Sequential)   (None, 28, 28)            421384    \n",
      "                                                                 \n",
      "=================================================================\n",
      "Total params: 842,009\n",
      "Trainable params: 842,009\n",
      "Non-trainable params: 0\n",
      "_________________________________________________________________\n"
     ]
    }
   ],
   "source": [
    "autoencoder.summary()"
   ]
  },
  {
   "cell_type": "code",
   "execution_count": 31,
   "id": "1bf12c86",
   "metadata": {},
   "outputs": [],
   "source": [
    "reconstruct = autoencoder.predict(X_test[:100])"
   ]
  },
  {
   "cell_type": "code",
   "execution_count": 36,
   "id": "e59d91fa",
   "metadata": {},
   "outputs": [
    {
     "name": "stdout",
     "output_type": "stream",
     "text": [
      "Original Image\n"
     ]
    },
    {
     "data": {
      "image/png": "[encoded data removed]",
      "text/plain": [
       "<Figure size 432x288 with 1 Axes>"
      ]
     },
     "metadata": {
      "needs_background": "light"
     },
     "output_type": "display_data"
    },
    {
     "name": "stdout",
     "output_type": "stream",
     "text": [
      "Reconstructed image Autoencoding\n"
     ]
    },
    {
     "data": {
      "image/png": "[encoded data removed]",
      "text/plain": [
       "<Figure size 432x288 with 1 Axes>"
      ]
     },
     "metadata": {
      "needs_background": "light"
     },
     "output_type": "display_data"
    }
   ],
   "source": [
    "n = 77\n",
    "\n",
    "print(\"Original Image\")\n",
    "plt.imshow(X_test[n])\n",
    "plt.show()\n",
    "\n",
    "print(\"Reconstructed image Autoencoding\")\n",
    "plt.imshow(reconstruct[n])\n",
    "plt.show()"
   ]
  },
  {
   "cell_type": "markdown",
   "id": "2f5db8be",
   "metadata": {},
   "source": [
    "------------------"
   ]
  },
  {
   "cell_type": "markdown",
   "id": "d072fa79",
   "metadata": {},
   "source": [
    "## Denoising Image"
   ]
  },
  {
   "cell_type": "code",
   "execution_count": 37,
   "id": "1bf147f0",
   "metadata": {},
   "outputs": [],
   "source": [
    "from tensorflow.keras.layers import GaussianNoise"
   ]
  },
  {
   "cell_type": "code",
   "execution_count": 38,
   "id": "476cbbcf",
   "metadata": {},
   "outputs": [],
   "source": [
    "noise = GaussianNoise(0.2)"
   ]
  },
  {
   "cell_type": "code",
   "execution_count": 39,
   "id": "494a7900",
   "metadata": {},
   "outputs": [],
   "source": [
    "noisey = noise(X_test[:100],training = True)"
   ]
  },
  {
   "cell_type": "code",
   "execution_count": 41,
   "id": "6006f8fb",
   "metadata": {},
   "outputs": [
    {
     "data": {
      "image/png": "[encoded data removed]",
      "text/plain": [
       "<Figure size 432x288 with 1 Axes>"
      ]
     },
     "metadata": {
      "needs_background": "light"
     },
     "output_type": "display_data"
    }
   ],
   "source": [
    "plt.imshow(noisey[5]);"
   ]
  },
  {
   "cell_type": "code",
   "execution_count": 42,
   "id": "cbafffad",
   "metadata": {},
   "outputs": [
    {
     "data": {
      "image/png": "[encoded data removed]",
      "text/plain": [
       "<Figure size 432x288 with 1 Axes>"
      ]
     },
     "metadata": {
      "needs_background": "light"
     },
     "output_type": "display_data"
    }
   ],
   "source": [
    "plt.imshow(X_test[5]);"
   ]
  },
  {
   "cell_type": "code",
   "execution_count": 43,
   "id": "9420fc2d",
   "metadata": {},
   "outputs": [],
   "source": [
    "import tensorflow as tf\n",
    "import numpy as np"
   ]
  },
  {
   "cell_type": "code",
   "execution_count": 44,
   "id": "9ac74bf2",
   "metadata": {},
   "outputs": [],
   "source": [
    "tf.random.set_seed(101)\n",
    "np.random.seed(101)"
   ]
  },
  {
   "cell_type": "code",
   "execution_count": 45,
   "id": "2e19339f",
   "metadata": {},
   "outputs": [],
   "source": [
    "encoder = Sequential()\n",
    "encoder.add(Flatten(input_shape = [28,28]))\n",
    "\n",
    "encoder.add(GaussianNoise(0.2))\n",
    "\n",
    "encoder.add(Dense(400,activation= \"relu\"))\n",
    "encoder.add(Dense(200,activation= \"relu\"))\n",
    "encoder.add(Dense(100,activation= \"relu\"))\n",
    "encoder.add(Dense(50,activation= \"relu\"))\n",
    "encoder.add(Dense(25,activation= \"relu\"))"
   ]
  },
  {
   "cell_type": "code",
   "execution_count": 46,
   "id": "27d61357",
   "metadata": {},
   "outputs": [],
   "source": [
    "decoder = Sequential()\n",
    "decoder.add(Dense(50,activation= \"relu\",input_shape = [25]))\n",
    "decoder.add(Dense(100,activation= \"relu\"))\n",
    "decoder.add(Dense(200,activation= \"relu\"))\n",
    "decoder.add(Dense(400,activation= \"relu\"))\n",
    "decoder.add(Dense(28*28,activation= \"sigmoid\"))\n",
    "decoder.add(Reshape(target_shape =  [28,28]))"
   ]
  },
  {
   "cell_type": "code",
   "execution_count": 47,
   "id": "9dcd0036",
   "metadata": {},
   "outputs": [],
   "source": [
    "autoencoder = Sequential([encoder,decoder])\n",
    "autoencoder.compile(loss = \"binary_crossentropy\", optimizer = \"adam\",metrics = [\"accuracy\"])"
   ]
  },
  {
   "cell_type": "code",
   "execution_count": 49,
   "id": "18e2987e",
   "metadata": {},
   "outputs": [
    {
     "name": "stdout",
     "output_type": "stream",
     "text": [
      "Epoch 1/8\n",
      "1875/1875 [==============================] - 22s 11ms/step - loss: 0.1694 - accuracy: 0.1817 - val_loss: 0.1345 - val_accuracy: 0.2244\n",
      "Epoch 2/8\n",
      "1875/1875 [==============================] - 22s 12ms/step - loss: 0.1295 - accuracy: 0.2326 - val_loss: 0.1206 - val_accuracy: 0.2370\n",
      "Epoch 3/8\n",
      "1875/1875 [==============================] - 21s 11ms/step - loss: 0.1204 - accuracy: 0.2465 - val_loss: 0.1155 - val_accuracy: 0.2496\n",
      "Epoch 4/8\n",
      "1875/1875 [==============================] - 21s 11ms/step - loss: 0.1161 - accuracy: 0.2539 - val_loss: 0.1104 - val_accuracy: 0.2589\n",
      "Epoch 5/8\n",
      "1875/1875 [==============================] - 21s 11ms/step - loss: 0.1132 - accuracy: 0.2587 - val_loss: 0.1091 - val_accuracy: 0.2585\n",
      "Epoch 6/8\n",
      "1875/1875 [==============================] - 21s 11ms/step - loss: 0.1107 - accuracy: 0.2629 - val_loss: 0.1064 - val_accuracy: 0.2648\n",
      "Epoch 7/8\n",
      "1875/1875 [==============================] - 21s 11ms/step - loss: 0.1086 - accuracy: 0.2662 - val_loss: 0.1047 - val_accuracy: 0.2707\n",
      "Epoch 8/8\n",
      "1875/1875 [==============================] - 21s 11ms/step - loss: 0.1069 - accuracy: 0.2690 - val_loss: 0.1027 - val_accuracy: 0.2718\n"
     ]
    },
    {
     "data": {
      "text/plain": [
       "<keras.callbacks.History at 0x26d7e17cbb0>"
      ]
     },
     "execution_count": 49,
     "metadata": {},
     "output_type": "execute_result"
    }
   ],
   "source": [
    "autoencoder.fit(X_train,X_train, epochs= 8, validation_data=(X_test,X_test))"
   ]
  },
  {
   "cell_type": "code",
   "execution_count": 50,
   "id": "df54844c",
   "metadata": {},
   "outputs": [],
   "source": [
    "denoise = autoencoder(noisey)"
   ]
  },
  {
   "cell_type": "code",
   "execution_count": 51,
   "id": "05fdf44f",
   "metadata": {},
   "outputs": [
    {
     "name": "stdout",
     "output_type": "stream",
     "text": [
      "The Original\n"
     ]
    },
    {
     "data": {
      "image/png": "[encoded data removed]",
      "text/plain": [
       "<Figure size 432x288 with 1 Axes>"
      ]
     },
     "metadata": {
      "needs_background": "light"
     },
     "output_type": "display_data"
    },
    {
     "name": "stdout",
     "output_type": "stream",
     "text": [
      "The Noisey Version\n"
     ]
    },
    {
     "data": {
      "image/png": "[encoded data removed]",
      "text/plain": [
       "<Figure size 432x288 with 1 Axes>"
      ]
     },
     "metadata": {
      "needs_background": "light"
     },
     "output_type": "display_data"
    },
    {
     "name": "stdout",
     "output_type": "stream",
     "text": [
      "After going through denoiser\n"
     ]
    },
    {
     "data": {
      "image/png": "[encoded data removed]",
      "text/plain": [
       "<Figure size 432x288 with 1 Axes>"
      ]
     },
     "metadata": {
      "needs_background": "light"
     },
     "output_type": "display_data"
    }
   ],
   "source": [
    "n = 1\n",
    "\n",
    "print(\"The Original\")\n",
    "plt.imshow(X_test[n])\n",
    "plt.show()\n",
    "\n",
    "print(\"The Noisey Version\")\n",
    "plt.imshow(noisey[n])\n",
    "plt.show()\n",
    "\n",
    "print(\"After going through denoiser\")\n",
    "plt.imshow(denoise[n])\n",
    "plt.show()"
   ]
  },
  {
   "cell_type": "code",
   "execution_count": null,
   "id": "d2592b7e",
   "metadata": {},
   "outputs": [],
   "source": []
  }
 ],
 "metadata": {
  "kernelspec": {
   "display_name": "Python 3 (ipykernel)",
   "language": "python",
   "name": "python3"
  },
  "language_info": {
   "codemirror_mode": {
    "name": "ipython",
    "version": 3
   },
   "file_extension": ".py",
   "mimetype": "text/x-python",
   "name": "python",
   "nbconvert_exporter": "python",
   "pygments_lexer": "ipython3",
   "version": "3.9.7"
  }
 },
 "nbformat": 4,
 "nbformat_minor": 5
}
