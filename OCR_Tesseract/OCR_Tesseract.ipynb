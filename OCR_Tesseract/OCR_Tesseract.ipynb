{
 "cells": [
  {
   "cell_type": "code",
   "execution_count": 1,
   "id": "9af1b451",
   "metadata": {},
   "outputs": [],
   "source": [
    "import cv2\n",
    "import pytesseract"
   ]
  },
  {
   "cell_type": "code",
   "execution_count": 2,
   "id": "200b589e",
   "metadata": {},
   "outputs": [],
   "source": [
    "# declaring the exe path for tesseract\n",
    "pytesseract.pytesseract.tesseract_cmd = 'C:\\\\Users\\\\aldrinds\\\\AppData\\\\Local\\\\Tesseract-OCR\\\\tesseract.exe'"
   ]
  },
  {
   "cell_type": "code",
   "execution_count": 3,
   "id": "11dbf6c1",
   "metadata": {},
   "outputs": [],
   "source": [
    "image = cv2.imread(\"fox_sample1.png\")"
   ]
  },
  {
   "cell_type": "code",
   "execution_count": 4,
   "id": "b1a800ca",
   "metadata": {},
   "outputs": [],
   "source": [
    "# step 1 : covert to grey scale\n",
    "preprocessed_img = cv2.cvtColor(image, cv2.COLOR_BGR2GRAY)"
   ]
  },
  {
   "cell_type": "code",
   "execution_count": 5,
   "id": "997635cd",
   "metadata": {},
   "outputs": [],
   "source": [
    "# step 2 : Do binary conversion using otsu thresholding\n",
    "# otsu thresholding -->  The threshold is determined automatically even if you give any value (0 or 128)\n",
    "thresh, preprocessed_img = cv2.cv2.threshold(preprocessed_img,0,255, cv2.THRESH_OTSU)"
   ]
  },
  {
   "cell_type": "code",
   "execution_count": 6,
   "id": "43e10ef8",
   "metadata": {},
   "outputs": [],
   "source": [
    "# step 3 : Using median blur (to remove noise), It also preserve the edges during noise removal.\n",
    "preprocessed_img = cv2.medianBlur(preprocessed_img, 3)"
   ]
  },
  {
   "cell_type": "code",
   "execution_count": 7,
   "id": "f962cd93",
   "metadata": {},
   "outputs": [],
   "source": [
    "output_text = pytesseract.image_to_string(preprocessed_img)"
   ]
  },
  {
   "cell_type": "code",
   "execution_count": 8,
   "id": "13a36d34",
   "metadata": {},
   "outputs": [
    {
     "name": "stdout",
     "output_type": "stream",
     "text": [
      "THE QUICK BROWN\n",
      "FOX JUMPED OVER\n",
      "THE LAZY DOG.\n",
      "\f",
      "\n"
     ]
    }
   ],
   "source": [
    "print(output_text)"
   ]
  },
  {
   "cell_type": "code",
   "execution_count": 9,
   "id": "a59bd3dd",
   "metadata": {},
   "outputs": [],
   "source": [
    "cv2.imshow(\"o/p photo\",image)\n",
    "cv2.waitKey(0) \n",
    "cv2.destroyAllWindows() "
   ]
  },
  {
   "cell_type": "markdown",
   "id": "a3b0470b",
   "metadata": {},
   "source": [
    "---------------"
   ]
  }
 ],
 "metadata": {
  "kernelspec": {
   "display_name": "Python 3 (ipykernel)",
   "language": "python",
   "name": "python3"
  },
  "language_info": {
   "codemirror_mode": {
    "name": "ipython",
    "version": 3
   },
   "file_extension": ".py",
   "mimetype": "text/x-python",
   "name": "python",
   "nbconvert_exporter": "python",
   "pygments_lexer": "ipython3",
   "version": "3.9.7"
  }
 },
 "nbformat": 4,
 "nbformat_minor": 5
}
